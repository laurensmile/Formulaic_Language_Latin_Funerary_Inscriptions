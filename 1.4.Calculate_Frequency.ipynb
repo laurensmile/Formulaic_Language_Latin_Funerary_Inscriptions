{
 "cells": [
  {
   "cell_type": "markdown",
   "id": "b40aa1a3",
   "metadata": {},
   "source": [
    "# 1.4 Frequency Distribution"
   ]
  },
  {
   "cell_type": "markdown",
   "id": "7b08f039",
   "metadata": {},
   "source": [
    "Three differet text versions are provided by the LatEpig scraper.\n",
    "- 'inscription': D(is) M(anibus) [s(acrum)] / Dan[\n",
    "- 'inscription_conservative_cleaning': D M Dan\n",
    "- 'inscription_interpretive_cleaning': Dis Manibus sacrum Dan\n",
    "\n",
    "The 'inscription' contains modern integrations (i.e., [s(acrum)]), resolution of abbreviations (i.e., D(is)), divisions of line (i.e., /), blank within a line (i.e., [3]). For the complete list of special characters used by EDCS see: https://db.edcs.eu/epigr/hinweise/hinweis-en.html. Integrations, resolution of abbreviations, and insertion of missing letters are present in the interpretative cleaning without special characters. The conservative cleaning, instead, does not contains modern integrations on the text and the abbreviations are not resolved. The conservative cleaning does not indicate blanks within a line.\n",
    "\n",
    "Inscriptions do not contain punctuation.\n",
    "\n",
    "---\n",
    "\n",
    "**What is transmitted on stone**\n",
    "\n",
    "The dataset contains 172,958 Latin inscriptions for a total of **1,943,890 tokens in the conservative cleaning texts** (that is, the actual tokens present on stone) and **137,341 unique tokens** with a mean of 11.2 tokens per sentence.\n",
    "\n",
    "Consider that the frequency of the letter 'M', an abbreviation used for different words (_Manibus, Marcus, merenti_), sums all the occurrences of the letter in the different contexts. Note also that the letter can also be an errant letter being preceded and/or followed by blank spaces on the stone.\n",
    "\n",
    "The 10 most common tokens in the conservative corpus are single letters and 'et' (**M: 97,537**, D: 67,735, S: 53,357, ET: 53,357, ...). This is due to the fact that funerary texts largely contain abbreviations.\n",
    "\n",
    "A plot shows the frequency distribution of the tokens in the conservative texts.\n",
    "\n",
    "---\n",
    "\n",
    "**Raw and relative frequency of words**\n",
    "\n",
    "Firstly, word frequency (raw frequency, relative frequency, relative frequency per million) was calculated for words in the interpretive texts. The interpretive texts contains 2,007,668 words and 115,697 unique words.\n",
    "\n",
    "A CSV file is generated containing the counting of the frequency of each word sorted in descending order.\n",
    "\n",
    "The distribution of the word frequency follows the Zip's Law."
   ]
  },
  {
   "cell_type": "code",
   "execution_count": 1,
   "id": "05f41c6f",
   "metadata": {},
   "outputs": [],
   "source": [
    "import pandas as pd\n",
    "from collections import Counter\n",
    "from nltk.tokenize import sent_tokenize, word_tokenize"
   ]
  },
  {
   "cell_type": "code",
   "execution_count": 2,
   "id": "99a02837",
   "metadata": {},
   "outputs": [],
   "source": [
    "##open the dataset of funerary inscriptions (172,958 rows)\n",
    "Inscriptions = pd.read_csv(\"/Users/u0154817/OneDrive - KU Leuven/Documents/ICLL Prague June 2023/Output/Tituli_Sepulcrales_new.csv\")"
   ]
  },
  {
   "cell_type": "code",
   "execution_count": 3,
   "id": "5237fd50",
   "metadata": {},
   "outputs": [
    {
     "data": {
      "text/plain": [
       "172958"
      ]
     },
     "execution_count": 3,
     "metadata": {},
     "output_type": "execute_result"
    }
   ],
   "source": [
    "len(Inscriptions)"
   ]
  },
  {
   "cell_type": "markdown",
   "id": "0087d731",
   "metadata": {},
   "source": [
    "# 1.3.1 Conservative cleaning: what's on the stone"
   ]
  },
  {
   "cell_type": "code",
   "execution_count": 4,
   "id": "75462097",
   "metadata": {},
   "outputs": [
    {
     "data": {
      "text/plain": [
       "11.23908694596376"
      ]
     },
     "execution_count": 4,
     "metadata": {},
     "output_type": "execute_result"
    }
   ],
   "source": [
    "##lenght of tokens per sentence (mean) 11.2\n",
    "import statistics\n",
    "\n",
    "tokens_per_sentence = []\n",
    "\n",
    "for i,inscription in enumerate(Inscriptions['inscription_conservative_cleaning']):\n",
    "    sum_of_tokens = [] ##create a list to append all the tokens in a sentence\n",
    "    inscription = str(inscription) ##convert to string\n",
    "    tokenized_inscription = word_tokenize(inscription) ##tokenize the inscription with NLTK\n",
    "    for token in tokenized_inscription:\n",
    "        sum_of_tokens.append(token) ##append the token to the list\n",
    "    sum_of_tokens = len(sum_of_tokens) ##calculate the lenght of the list\n",
    "    tokens_per_sentence.append(sum_of_tokens) ##append the lenght to the Tokens_per_Sentence\n",
    "    \n",
    "mean = statistics.mean(tokens_per_sentence)\n",
    "mean"
   ]
  },
  {
   "cell_type": "code",
   "execution_count": 5,
   "id": "313df3d0",
   "metadata": {},
   "outputs": [],
   "source": [
    "##create a list of all the tokens (upper)\n",
    "list_of_tokens_upper = []\n",
    "\n",
    "for i,inscription in enumerate(Inscriptions['inscription_conservative_cleaning']):\n",
    "    inscription = str(inscription)\n",
    "    tokenized_inscription = word_tokenize(inscription) ##tokenize the inscription with NLTK\n",
    "    for token in tokenized_inscription:\n",
    "        token = token.upper()\n",
    "        list_of_tokens_upper.append(token)"
   ]
  },
  {
   "cell_type": "code",
   "execution_count": 6,
   "id": "39f500db",
   "metadata": {},
   "outputs": [
    {
     "data": {
      "text/plain": [
       "1943890"
      ]
     },
     "execution_count": 6,
     "metadata": {},
     "output_type": "execute_result"
    }
   ],
   "source": [
    "##number of tokens in the dataset (1,943,890)\n",
    "len(list_of_tokens_upper)"
   ]
  },
  {
   "cell_type": "code",
   "execution_count": 7,
   "id": "ec7e3ad6",
   "metadata": {},
   "outputs": [
    {
     "data": {
      "text/plain": [
       "137341"
      ]
     },
     "execution_count": 7,
     "metadata": {},
     "output_type": "execute_result"
    }
   ],
   "source": [
    "counter_upper = Counter(list_of_tokens_upper)\n",
    "\n",
    "##number of unique upper tokens (137,341)\n",
    "len(counter_upper)"
   ]
  },
  {
   "cell_type": "code",
   "execution_count": 8,
   "id": "20387ef9",
   "metadata": {
    "scrolled": true
   },
   "outputs": [
    {
     "data": {
      "text/plain": [
       "[('M', 97537),\n",
       " ('D', 67735),\n",
       " ('S', 53357),\n",
       " ('ET', 50166),\n",
       " ('L', 43968),\n",
       " ('F', 35649),\n",
       " ('P', 32913),\n",
       " ('V', 31920),\n",
       " ('C', 30192),\n",
       " ('A', 28655),\n",
       " ('IN', 27158),\n",
       " ('VIXIT', 24928),\n",
       " ('H', 23359),\n",
       " ('E', 21697),\n",
       " ('T', 20129),\n",
       " ('AN', 18823),\n",
       " ('ANN', 15706),\n",
       " ('FECIT', 14976),\n",
       " ('Q', 14566),\n",
       " ('VIX', 13457),\n",
       " ('ANNIS', 12792),\n",
       " ('B', 11175),\n",
       " ('SIBI', 11090),\n",
       " ('BENE', 10215),\n",
       " ('PACE', 10201),\n",
       " ('QUI', 9744),\n",
       " ('I', 9222),\n",
       " ('QUE', 8997),\n",
       " ('CONIUGI', 8459),\n",
       " ('MERENTI', 8195),\n",
       " ('VI', 7193),\n",
       " ('X', 7162),\n",
       " ('N', 7054),\n",
       " ('III', 6966),\n",
       " ('II', 6211),\n",
       " ('FILIO', 5740),\n",
       " ('DIS', 5475),\n",
       " ('O', 5329),\n",
       " ('XX', 5253),\n",
       " ('SUIS', 5244),\n",
       " ('LIB', 5048),\n",
       " ('IIII', 5033),\n",
       " ('AUG', 5005),\n",
       " ('FIL', 4836),\n",
       " ('HIC', 4834),\n",
       " ('VII', 4795),\n",
       " ('XII', 4245),\n",
       " ('VIII', 4192),\n",
       " ('ANNOS', 4171),\n",
       " ('XXX', 4099),\n",
       " ('SUO', 3976),\n",
       " ('XI', 3825),\n",
       " ('IULIUS', 3788),\n",
       " ('XXV', 3779),\n",
       " ('US', 3668),\n",
       " ('MANIBUS', 3633),\n",
       " ('QUAE', 3609),\n",
       " ('EST', 3601),\n",
       " ('XV', 3596),\n",
       " ('LEG', 3501),\n",
       " ('CUM', 3424),\n",
       " ('KAL', 3415),\n",
       " ('MATER', 3404),\n",
       " ('IULIA', 3317),\n",
       " ('FECERUNT', 3248),\n",
       " ('MIL', 3232),\n",
       " ('FEC', 3212),\n",
       " ('EORUM', 3095),\n",
       " ('TI', 3063),\n",
       " ('FILIAE', 3049),\n",
       " ('EX', 3037),\n",
       " ('MATRI', 3022),\n",
       " ('DIES', 2936),\n",
       " ('SEX', 2863),\n",
       " ('SE', 2793),\n",
       " ('POSUIT', 2728),\n",
       " ('PATRI', 2681),\n",
       " ('XVI', 2678),\n",
       " ('PATER', 2664),\n",
       " ('FR', 2644),\n",
       " ('XXXV', 2605),\n",
       " ('VIIII', 2578),\n",
       " ('EIUS', 2547),\n",
       " ('DE', 2526),\n",
       " ('LX', 2514),\n",
       " ('AUR', 2511),\n",
       " ('SUAE', 2508),\n",
       " ('COIUGI', 2377),\n",
       " ('XIII', 2253),\n",
       " ('MENS', 2248),\n",
       " ('R', 2237),\n",
       " ('POSTERIS', 2220),\n",
       " ('PIUS', 2199),\n",
       " ('FELIX', 2198),\n",
       " ('PIA', 2171),\n",
       " ('PARENTES', 2135),\n",
       " ('IUL', 2132),\n",
       " ('LIBERTIS', 2120),\n",
       " ('AGR', 2055),\n",
       " ('XVIII', 2045),\n",
       " ('FL', 1978),\n",
       " ('UXORI', 1965),\n",
       " ('VIR', 1937),\n",
       " ('XXII', 1908),\n",
       " ('LXX', 1887),\n",
       " ('DULCISSIMO', 1825),\n",
       " ('PR', 1811),\n",
       " ('XVII', 1807),\n",
       " ('ANIS', 1800),\n",
       " ('FRATRI', 1783),\n",
       " ('ME', 1777),\n",
       " ('AE', 1749),\n",
       " ('DIE', 1731),\n",
       " ('XIIII', 1707),\n",
       " ('CL', 1680),\n",
       " ('XL', 1666),\n",
       " ('XXI', 1650),\n",
       " ('SER', 1588),\n",
       " ('LIBERTABUS', 1580),\n",
       " ('MA', 1579),\n",
       " ('FILI', 1554),\n",
       " ('CN', 1525),\n",
       " ('XXIII', 1494),\n",
       " ('CON', 1484),\n",
       " ('FILIUS', 1482),\n",
       " ('G', 1479),\n",
       " ('MARITO', 1479),\n",
       " ('COH', 1473),\n",
       " ('DIEBUS', 1473),\n",
       " ('IDUS', 1457),\n",
       " ('DIEB', 1442),\n",
       " ('LXXX', 1442),\n",
       " ('FILIA', 1437),\n",
       " ('DEP', 1412),\n",
       " ('UXOR', 1395),\n",
       " ('AG', 1385),\n",
       " ('PATRONO', 1375),\n",
       " ('IULIAE', 1362),\n",
       " ('SI', 1349),\n",
       " ('LXXV', 1343),\n",
       " ('LV', 1336),\n",
       " ('XXXX', 1324),\n",
       " ('HOC', 1320),\n",
       " ('NON', 1304),\n",
       " ('PA', 1298),\n",
       " ('VALERIUS', 1260),\n",
       " ('XXVII', 1240),\n",
       " ('XXVI', 1237),\n",
       " ('MENSES', 1232),\n",
       " ('POSTERISQ', 1230),\n",
       " ('MEN', 1227),\n",
       " ('LXV', 1223),\n",
       " ('DULCISSIMAE', 1205),\n",
       " ('CO', 1198),\n",
       " ('IULIO', 1170),\n",
       " ('MEMORIAE', 1168),\n",
       " ('VICTOR', 1163),\n",
       " ('IUS', 1159),\n",
       " ('VAL', 1153),\n",
       " ('AD', 1151),\n",
       " ('PIENTISSIMO', 1120),\n",
       " ('MANIB', 1090),\n",
       " ('MAN', 1089),\n",
       " ('VET', 1073),\n",
       " ('IS', 1064),\n",
       " ('SUB', 1063),\n",
       " ('NE', 1050),\n",
       " ('ANNO', 1048),\n",
       " ('DP', 1044),\n",
       " ('LI', 1015),\n",
       " ('K', 1014),\n",
       " ('DEC', 1013),\n",
       " ('QU', 1011),\n",
       " ('IT', 1000),\n",
       " ('PIISSIMO', 1000),\n",
       " ('XXVIII', 999),\n",
       " ('BIXIT', 996),\n",
       " ('VALERIA', 994),\n",
       " ('AEL', 991),\n",
       " ('FIDELIS', 989),\n",
       " ('CONS', 980),\n",
       " ('IA', 974),\n",
       " ('POS', 974),\n",
       " ('AURELIUS', 969),\n",
       " ('XXIIII', 958),\n",
       " ('QUA', 939),\n",
       " ('XLV', 924),\n",
       " ('DI', 921),\n",
       " ('TE', 917),\n",
       " ('XXXII', 910),\n",
       " ('DIIS', 891),\n",
       " ('XVIIII', 889),\n",
       " ('IULI', 885),\n",
       " ('AELIUS', 881),\n",
       " ('MENSIBUS', 875),\n",
       " ('CLAUDIUS', 867),\n",
       " ('UT', 867),\n",
       " ('XIT', 865),\n",
       " ('CARISSIMAE', 864),\n",
       " ('OPTIMO', 861),\n",
       " ('FLAVIUS', 859),\n",
       " ('IX', 856),\n",
       " ('LXXXV', 852),\n",
       " ('VIXI', 846),\n",
       " ('FLAVIA', 846),\n",
       " ('QUO', 839),\n",
       " ('MARITUS', 835),\n",
       " ('MER', 832),\n",
       " ('CARISSIMO', 832),\n",
       " ('VIRO', 830),\n",
       " ('CORNELIUS', 821),\n",
       " ('QUIR', 814),\n",
       " ('PRIMA', 809),\n",
       " ('EQ', 805),\n",
       " ('PLUS', 800),\n",
       " ('PRO', 790),\n",
       " ('LOCUS', 790),\n",
       " ('SATURNINUS', 789),\n",
       " ('ANNORUM', 786),\n",
       " ('VIVA', 780),\n",
       " ('FE', 778),\n",
       " ('REQUIESCIT', 777),\n",
       " ('PIENTISSIMAE', 772),\n",
       " ('CLAUDIA', 765),\n",
       " ('SITUS', 761),\n",
       " ('SORORI', 761),\n",
       " ('STIP', 754),\n",
       " ('POST', 753),\n",
       " ('AURELIA', 749),\n",
       " ('ID', 745),\n",
       " ('QUOD', 739),\n",
       " ('FORTUNATUS', 734),\n",
       " ('DEPOSITUS', 734),\n",
       " ('SECUNDA', 726),\n",
       " ('PL', 722),\n",
       " ('AGRO', 721),\n",
       " ('NO', 721),\n",
       " ('POSUERUNT', 718),\n",
       " ('NN', 717),\n",
       " ('FORTUNATA', 714),\n",
       " ('AELIA', 712),\n",
       " ('ES', 708),\n",
       " ('SITA', 704),\n",
       " ('XXXI', 703),\n",
       " ('IO', 702),\n",
       " ('SIT', 701),\n",
       " ('PRIMUS', 698),\n",
       " ('FRATER', 695),\n",
       " ('XXXXV', 694),\n",
       " ('DEPOSITA', 686),\n",
       " ('MINUS', 679),\n",
       " ('IANUARIUS', 675),\n",
       " ('FELICI', 672),\n",
       " ('SECUNDUS', 670),\n",
       " ('VITALIS', 670),\n",
       " ('AB', 669),\n",
       " ('CONIUG', 666),\n",
       " ('BEN', 666),\n",
       " ('FI', 661),\n",
       " ('SU', 657),\n",
       " ('DULCIS', 655),\n",
       " ('NIS', 653),\n",
       " ('TIBI', 653),\n",
       " ('SUA', 649),\n",
       " ('PIISSIMAE', 649),\n",
       " ('FILIS', 649),\n",
       " ('CA', 648),\n",
       " ('FECER', 645),\n",
       " ('HERES', 638),\n",
       " ('VICTORIA', 636),\n",
       " ('AUREL', 632),\n",
       " ('INCOMPARABILI', 631),\n",
       " ('TESTAMENTO', 628),\n",
       " ('XXXIII', 627),\n",
       " ('MAXIMUS', 626),\n",
       " ('MAR', 625),\n",
       " ('CE', 625),\n",
       " ('CLAUDIAE', 624),\n",
       " ('OSSA', 623),\n",
       " ('PER', 620),\n",
       " ('CORNELIA', 614),\n",
       " ('NI', 607),\n",
       " ('KARISSIMAE', 604),\n",
       " ('IV', 600),\n",
       " ('CONIUX', 599),\n",
       " ('NUS', 599),\n",
       " ('PO', 591),\n",
       " ('SATURNINA', 585),\n",
       " ('VALERIAE', 575),\n",
       " ('RUFUS', 573),\n",
       " ('KARISSIMO', 570),\n",
       " ('ITEM', 570),\n",
       " ('NA', 569),\n",
       " ('XIIX', 568),\n",
       " ('AMICO', 567),\n",
       " ('PAC', 566),\n",
       " ('ULPIUS', 564),\n",
       " ('COL', 563),\n",
       " ('LIBERTABUSQ', 560),\n",
       " ('HER', 559)]"
      ]
     },
     "execution_count": 8,
     "metadata": {},
     "output_type": "execute_result"
    }
   ],
   "source": [
    "##get the 300 most common tokens \n",
    "most_frequent_tokens_upper = counter_upper.most_common(300)\n",
    "most_frequent_tokens_upper"
   ]
  },
  {
   "cell_type": "code",
   "execution_count": 9,
   "id": "731b216e",
   "metadata": {
    "scrolled": false
   },
   "outputs": [
    {
     "data": {
      "image/png": "[encoded data removed]",
      "text/plain": [
       "<Figure size 1800x800 with 1 Axes>"
      ]
     },
     "metadata": {},
     "output_type": "display_data"
    }
   ],
   "source": [
    "import matplotlib.pyplot as plt\n",
    "\n",
    "##extract the words and counts\n",
    "labels, values = zip(*most_frequent_tokens_upper)\n",
    "\n",
    "##create a plot\n",
    "plt.figure(figsize=(18, 8))\n",
    "plt.plot(labels, values, marker='.', linestyle='-', color='b')\n",
    "plt.ylabel('occurrences')\n",
    "plt.xlabel('300 most frequent tokens')\n",
    "plt.xticks(labels, rotation=90, fontsize=4)\n",
    "plt.title('Distribution - conservative texts')\n",
    "\n",
    "plt.show()"
   ]
  },
  {
   "cell_type": "markdown",
   "id": "18ccc896",
   "metadata": {},
   "source": [
    "# 1.3.2 Interpretive cleaning: get some meaning out of it"
   ]
  },
  {
   "cell_type": "code",
   "execution_count": 10,
   "id": "7f85ef37",
   "metadata": {},
   "outputs": [],
   "source": [
    "##create a list of all the words in the interpretive texts\n",
    "list_of_words = []\n",
    "\n",
    "for i,inscription in enumerate(Inscriptions['inscription_interpretive_cleaning']):\n",
    "    inscription = str(inscription)\n",
    "    tokenized_inscription = word_tokenize(inscription) ##tokenize the inscription with NLTK\n",
    "    for word in tokenized_inscription:\n",
    "        word = word.lower()\n",
    "        list_of_words.append(word)"
   ]
  },
  {
   "cell_type": "code",
   "execution_count": 11,
   "id": "8f87bf96",
   "metadata": {},
   "outputs": [
    {
     "data": {
      "text/plain": [
       "2007668"
      ]
     },
     "execution_count": 11,
     "metadata": {},
     "output_type": "execute_result"
    }
   ],
   "source": [
    "##word count in the interpretive texts (2,007,668)\n",
    "len(list_of_words)"
   ]
  },
  {
   "cell_type": "code",
   "execution_count": 12,
   "id": "92adbed9",
   "metadata": {},
   "outputs": [
    {
     "data": {
      "text/plain": [
       "115697"
      ]
     },
     "execution_count": 12,
     "metadata": {},
     "output_type": "execute_result"
    }
   ],
   "source": [
    "counter_words = Counter(list_of_words) ##calculate the raw frequency\n",
    "\n",
    "##number of unique words in interpretive texts (115,697)\n",
    "len(counter_words)"
   ]
  },
  {
   "cell_type": "code",
   "execution_count": 13,
   "id": "fc56aed8",
   "metadata": {},
   "outputs": [],
   "source": [
    "##get the 100 most frequent words in interpretive texts\n",
    "most_frequent_words = counter_words.most_common(100)"
   ]
  },
  {
   "cell_type": "code",
   "execution_count": 14,
   "id": "67b58737",
   "metadata": {
    "scrolled": true
   },
   "outputs": [
    {
     "data": {
      "text/plain": [
       "[('vixit', 67831),\n",
       " ('manibus', 65975),\n",
       " ('dis', 65783),\n",
       " ('et', 55056),\n",
       " ('annos', 50095),\n",
       " ('in', 31591),\n",
       " ('hic', 27439),\n",
       " ('fecit', 26399),\n",
       " ('bene', 22934),\n",
       " ('est', 22740),\n",
       " ('sacrum', 21157),\n",
       " ('merenti', 20592),\n",
       " ('annis', 18841),\n",
       " ('coniugi', 15627),\n",
       " ('pace', 14512),\n",
       " ('situs', 13814),\n",
       " ('sibi', 13478),\n",
       " ('filio', 12973),\n",
       " ('qui', 12803),\n",
       " ('que', 12294),\n",
       " ('filius', 12200),\n",
       " ('annorum', 11933),\n",
       " ('menses', 11907),\n",
       " ('pedes', 11673),\n",
       " ('caius', 9259),\n",
       " ('dies', 9125),\n",
       " ('lucius', 8939),\n",
       " ('filiae', 8604),\n",
       " ('quae', 8435),\n",
       " ('sita', 8367),\n",
       " ('cai', 8231),\n",
       " ('v', 8218),\n",
       " ('luci', 8162),\n",
       " ('libertus', 8128),\n",
       " ('marcus', 7123),\n",
       " ('iii', 6744),\n",
       " ('suis', 6716),\n",
       " ('filia', 6643),\n",
       " ('x', 6635),\n",
       " ('posuit', 6594),\n",
       " ('fecerunt', 6580),\n",
       " ('ii', 6324),\n",
       " ('i', 5955),\n",
       " ('vi', 5899),\n",
       " ('tibi', 5862),\n",
       " ('fronte', 5807),\n",
       " ('marci', 5551),\n",
       " ('kalendas', 5488),\n",
       " ('mensibus', 5409),\n",
       " ('iulius', 5237),\n",
       " ('xx', 5185),\n",
       " ('agro', 5165),\n",
       " ('posteris', 5116),\n",
       " ('diebus', 5103),\n",
       " ('iiii', 5094),\n",
       " ('liberta', 5066),\n",
       " ('vii', 4810),\n",
       " ('suo', 4786),\n",
       " ('a', 4684),\n",
       " ('sit', 4657),\n",
       " ('terra', 4641),\n",
       " ('levis', 4547),\n",
       " ('pius', 4528),\n",
       " ('eorum', 4488),\n",
       " ('cum', 4306),\n",
       " ('quintus', 4304),\n",
       " ('xii', 4276),\n",
       " ('viii', 4240),\n",
       " ('mater', 4209),\n",
       " ('libertis', 4152),\n",
       " ('xxx', 4112),\n",
       " ('legionis', 3969),\n",
       " ('publius', 3934),\n",
       " ('libertabus', 3898),\n",
       " ('iulia', 3847),\n",
       " ('xxv', 3800),\n",
       " ('xi', 3784),\n",
       " ('publi', 3693),\n",
       " ('caio', 3636),\n",
       " ('xv', 3601),\n",
       " ('matri', 3600),\n",
       " ('pia', 3569),\n",
       " ('quinti', 3534),\n",
       " ('s', 3519),\n",
       " ('pater', 3519),\n",
       " ('depositus', 3518),\n",
       " ('l', 3517),\n",
       " ('lucio', 3495),\n",
       " ('patri', 3393),\n",
       " ('vivus', 3364),\n",
       " ('ex', 3314),\n",
       " ('curavit', 3214),\n",
       " ('suae', 3175),\n",
       " ('titus', 3164),\n",
       " ('liberto', 3160),\n",
       " ('augusti', 3145),\n",
       " ('faciendum', 3136),\n",
       " ('libertae', 3091),\n",
       " ('memoriae', 3067),\n",
       " ('eius', 3026)]"
      ]
     },
     "execution_count": 14,
     "metadata": {},
     "output_type": "execute_result"
    }
   ],
   "source": [
    "##most frequent words ranked in terms of raw frequency\n",
    "most_frequent_words"
   ]
  },
  {
   "cell_type": "code",
   "execution_count": 15,
   "id": "e0758a04",
   "metadata": {
    "scrolled": true
   },
   "outputs": [],
   "source": [
    "##raw frequency descending order\n",
    "raw_frequencies = counter_words.most_common(115697)\n",
    "\n",
    "frequencies = pd.DataFrame(raw_frequencies, columns=['word', 'raw_frequency'])"
   ]
  },
  {
   "cell_type": "code",
   "execution_count": 16,
   "id": "60789713",
   "metadata": {},
   "outputs": [
    {
     "data": {
      "text/plain": [
       "2007668"
      ]
     },
     "execution_count": 16,
     "metadata": {},
     "output_type": "execute_result"
    }
   ],
   "source": [
    "len(list_of_words)"
   ]
  },
  {
   "cell_type": "code",
   "execution_count": 17,
   "id": "4527a08e",
   "metadata": {},
   "outputs": [
    {
     "data": {
      "text/html": [
       "<div>\n",
       "<style scoped>\n",
       "    .dataframe tbody tr th:only-of-type {\n",
       "        vertical-align: middle;\n",
       "    }\n",
       "\n",
       "    .dataframe tbody tr th {\n",
       "        vertical-align: top;\n",
       "    }\n",
       "\n",
       "    .dataframe thead th {\n",
       "        text-align: right;\n",
       "    }\n",
       "</style>\n",
       "<table border=\"1\" class=\"dataframe\">\n",
       "  <thead>\n",
       "    <tr style=\"text-align: right;\">\n",
       "      <th></th>\n",
       "      <th>word</th>\n",
       "      <th>raw_frequency</th>\n",
       "      <th>relative_frequency</th>\n",
       "      <th>relat_frequency_per_million</th>\n",
       "    </tr>\n",
       "  </thead>\n",
       "  <tbody>\n",
       "    <tr>\n",
       "      <th>0</th>\n",
       "      <td>vixit</td>\n",
       "      <td>67831</td>\n",
       "      <td>3.378596e-02</td>\n",
       "      <td>33785.964612</td>\n",
       "    </tr>\n",
       "    <tr>\n",
       "      <th>1</th>\n",
       "      <td>manibus</td>\n",
       "      <td>65975</td>\n",
       "      <td>3.286151e-02</td>\n",
       "      <td>32861.508975</td>\n",
       "    </tr>\n",
       "    <tr>\n",
       "      <th>2</th>\n",
       "      <td>dis</td>\n",
       "      <td>65783</td>\n",
       "      <td>3.276588e-02</td>\n",
       "      <td>32765.875633</td>\n",
       "    </tr>\n",
       "    <tr>\n",
       "      <th>3</th>\n",
       "      <td>et</td>\n",
       "      <td>55056</td>\n",
       "      <td>2.742286e-02</td>\n",
       "      <td>27422.860752</td>\n",
       "    </tr>\n",
       "    <tr>\n",
       "      <th>4</th>\n",
       "      <td>annos</td>\n",
       "      <td>50095</td>\n",
       "      <td>2.495183e-02</td>\n",
       "      <td>24951.834666</td>\n",
       "    </tr>\n",
       "    <tr>\n",
       "      <th>...</th>\n",
       "      <td>...</td>\n",
       "      <td>...</td>\n",
       "      <td>...</td>\n",
       "      <td>...</td>\n",
       "    </tr>\n",
       "    <tr>\n",
       "      <th>115692</th>\n",
       "      <td>vocabant</td>\n",
       "      <td>1</td>\n",
       "      <td>4.980903e-07</td>\n",
       "      <td>0.498090</td>\n",
       "    </tr>\n",
       "    <tr>\n",
       "      <th>115693</th>\n",
       "      <td>intonsam</td>\n",
       "      <td>1</td>\n",
       "      <td>4.980903e-07</td>\n",
       "      <td>0.498090</td>\n",
       "    </tr>\n",
       "    <tr>\n",
       "      <th>115694</th>\n",
       "      <td>barbam</td>\n",
       "      <td>1</td>\n",
       "      <td>4.980903e-07</td>\n",
       "      <td>0.498090</td>\n",
       "    </tr>\n",
       "    <tr>\n",
       "      <th>115695</th>\n",
       "      <td>voltiavo</td>\n",
       "      <td>1</td>\n",
       "      <td>4.980903e-07</td>\n",
       "      <td>0.498090</td>\n",
       "    </tr>\n",
       "    <tr>\n",
       "      <th>115696</th>\n",
       "      <td>suan</td>\n",
       "      <td>1</td>\n",
       "      <td>4.980903e-07</td>\n",
       "      <td>0.498090</td>\n",
       "    </tr>\n",
       "  </tbody>\n",
       "</table>\n",
       "<p>115697 rows × 4 columns</p>\n",
       "</div>"
      ],
      "text/plain": [
       "            word  raw_frequency  relative_frequency  \\\n",
       "0          vixit          67831        3.378596e-02   \n",
       "1        manibus          65975        3.286151e-02   \n",
       "2            dis          65783        3.276588e-02   \n",
       "3             et          55056        2.742286e-02   \n",
       "4          annos          50095        2.495183e-02   \n",
       "...          ...            ...                 ...   \n",
       "115692  vocabant              1        4.980903e-07   \n",
       "115693  intonsam              1        4.980903e-07   \n",
       "115694    barbam              1        4.980903e-07   \n",
       "115695  voltiavo              1        4.980903e-07   \n",
       "115696      suan              1        4.980903e-07   \n",
       "\n",
       "        relat_frequency_per_million  \n",
       "0                      33785.964612  \n",
       "1                      32861.508975  \n",
       "2                      32765.875633  \n",
       "3                      27422.860752  \n",
       "4                      24951.834666  \n",
       "...                             ...  \n",
       "115692                     0.498090  \n",
       "115693                     0.498090  \n",
       "115694                     0.498090  \n",
       "115695                     0.498090  \n",
       "115696                     0.498090  \n",
       "\n",
       "[115697 rows x 4 columns]"
      ]
     },
     "execution_count": 17,
     "metadata": {},
     "output_type": "execute_result"
    }
   ],
   "source": [
    "##calculate the relative frequency of the words\n",
    "\n",
    "relative_frequencies = []\n",
    "relat_frequencies_per_million = []\n",
    "\n",
    "for i,raw_frequency in enumerate(frequencies['raw_frequency']):\n",
    "    relative_frequency = raw_frequency / len(list_of_words)\n",
    "    relative_frequencies.append(relative_frequency)\n",
    "    relat_frequency_per_million = relative_frequency * 1000000\n",
    "    relat_frequencies_per_million.append(relat_frequency_per_million)\n",
    "    \n",
    "frequencies['relative_frequency'] = relative_frequencies\n",
    "frequencies['relat_frequency_per_million'] = relat_frequencies_per_million\n",
    "frequencies"
   ]
  },
  {
   "cell_type": "code",
   "execution_count": 19,
   "id": "c33c4302",
   "metadata": {},
   "outputs": [],
   "source": [
    "frequencies.to_csv('1.4.Frequency_Count.csv', index=False)"
   ]
  },
  {
   "cell_type": "markdown",
   "id": "1230c44b",
   "metadata": {},
   "source": [
    "# Zipf's law"
   ]
  },
  {
   "cell_type": "markdown",
   "id": "2083e442",
   "metadata": {},
   "source": [
    "Zipf's law (https://en.wikipedia.org/wiki/Zipf%27s_law) is an empirical law, that models the frequency distribution of words in languages. It states that the value of the nth entry is inversely proportional to n.  Zipf's Law suggests that word frequency follows a power-law distribution, where a small number of words have high frequencies and a large number of words have low frequencies.\n",
    "\n",
    "You can express Zipf's law using the equation:\n",
    "                                \n",
    "                                                        F = k / r^s\n",
    "\n",
    "where:\n",
    "- F represents the frequency of a word,\n",
    "- k is a constant,\n",
    "- r represents the rank of the word, and\n",
    "- s is a scaling parameter.\n",
    "\n",
    "The value of s determines how quickly the frequencies decline as the rank increases and the steepness of the line in the graph. A smaller value of s results in a steeper drop, indicating a more pronounced concentration of occurrences in a few items. A larger value of s leads to a more gradual decline, suggesting a more evenly distributed frequency pattern.\n",
    "\n",
    "The actual rank-frequency plot of a natural language text deviates in some extent from the ideal Zipf distribution, especially at the two ends of the range. At the low-frequency end, where the rank approaches N, the plot takes a staircase shape, because each word can occur only an integer number of times."
   ]
  },
  {
   "cell_type": "code",
   "execution_count": 18,
   "id": "73ed1a1f",
   "metadata": {},
   "outputs": [
    {
     "name": "stdout",
     "output_type": "stream",
     "text": [
      "Scaling parameter (s): 1.0772550020910476\n"
     ]
    },
    {
     "data": {
      "image/png": "[encoded data removed]",
      "text/plain": [
       "<Figure size 640x480 with 1 Axes>"
      ]
     },
     "metadata": {},
     "output_type": "display_data"
    }
   ],
   "source": [
    "import numpy as np\n",
    "from scipy.stats import linregress\n",
    "import matplotlib.pyplot as plt\n",
    "\n",
    "rank = np.arange(1, len(counter_words)+1) ##rank of the values\n",
    "frequency = [freq for _, freq in raw_frequencies] ##create a list of frequency values descending order\n",
    "\n",
    "# Calculate the logarithm of rank and frequency\n",
    "log_rank = np.log10(rank)\n",
    "log_frequency = np.log10(frequency)\n",
    "\n",
    "# Perform linear regression to fit the data to a line\n",
    "slope, intercept, r_value, p_value, std_err = linregress(log_rank, log_frequency)\n",
    "\n",
    "# Print the estimated scaling parameter (slope)\n",
    "scaling_parameter = -slope\n",
    "print(\"Scaling parameter (s):\", scaling_parameter)\n",
    "\n",
    "# Plot the scatter plot and the fitted line\n",
    "plt.plot(log_rank, log_frequency, linestyle='-', color='blue', label='Data')\n",
    "plt.plot(log_rank, slope * log_rank + intercept, linestyle='--', color='red', label='Fitted Line')\n",
    "plt.xlabel('log(Rank)')\n",
    "plt.ylabel('log(Frequency)')\n",
    "plt.title('Zipf\\'s Law')\n",
    "plt.legend()\n",
    "plt.show()"
   ]
  }
 ],
 "metadata": {
  "kernelspec": {
   "display_name": "Python 3 (ipykernel)",
   "language": "python",
   "name": "python3"
  },
  "language_info": {
   "codemirror_mode": {
    "name": "ipython",
    "version": 3
   },
   "file_extension": ".py",
   "mimetype": "text/x-python",
   "name": "python",
   "nbconvert_exporter": "python",
   "pygments_lexer": "ipython3",
   "version": "3.9.13"
  }
 },
 "nbformat": 4,
 "nbformat_minor": 5
}
