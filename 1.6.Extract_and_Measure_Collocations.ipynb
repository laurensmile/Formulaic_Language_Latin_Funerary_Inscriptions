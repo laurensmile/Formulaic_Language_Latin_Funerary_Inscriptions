{
 "cells": [
  {
   "cell_type": "markdown",
   "id": "ae4e4b7b",
   "metadata": {},
   "source": [
    "# 1.6 Extract and Measure Collocations"
   ]
  },
  {
   "cell_type": "markdown",
   "id": "ff564ee5",
   "metadata": {},
   "source": [
    "There are different tools to extract and measure collocations (or bigrams) in a text. The analysis was performed on the interpretive cleaning texts. Conservative texts were excluded from the extraction of bigrams since blank spaces are not marked and not following words are concatenated leading to false assumptions.\n",
    "\n",
    "The most frequent collocations are 'dis manibus', 'vixit annos', 'manibus sacrum'. The simple frequency of a collocation is quite difficult to interpret. For instance, the bigram 'dis manibus' occurs 65,433 in the interpretive texts. But, is this number relevant? In comparison to what? To assess the meaning of this values, other metrics (NLTK) can be used that permit to explore other aspects of the collocation bound.\n",
    "\n",
    "NLTK measures include:\n",
    "\n",
    "- Pointwise Mutual Information (PMI)\n",
    "- Likelihood Ratio\n",
    "\n",
    "The different measures are compared."
   ]
  },
  {
   "cell_type": "code",
   "execution_count": 1,
   "id": "8740b695",
   "metadata": {},
   "outputs": [],
   "source": [
    "import pandas as pd\n",
    "from collections import Counter"
   ]
  },
  {
   "cell_type": "code",
   "execution_count": 2,
   "id": "7b4f16b6",
   "metadata": {},
   "outputs": [],
   "source": [
    "##open the dataset of funerary inscriptions (172,958 rows)\n",
    "Inscriptions = pd.read_csv(\"/Users/u0154817/OneDrive - KU Leuven/Documents/ICLL Prague June 2023/Output/Tituli_Sepulcrales_new.csv\")"
   ]
  },
  {
   "cell_type": "markdown",
   "id": "728dbb98",
   "metadata": {},
   "source": [
    "# 1.4.1 Bigrams collocations: Frequency"
   ]
  },
  {
   "cell_type": "code",
   "execution_count": 3,
   "id": "b07b9172",
   "metadata": {},
   "outputs": [],
   "source": [
    "##create a list of all the words in the interpretive texts\n",
    "List_of_Words = []\n",
    "\n",
    "for i,Inscription in enumerate(Inscriptions['inscription_interpretive_cleaning']):\n",
    "    Inscription = str(Inscription)\n",
    "    Inscription = Inscription.split()\n",
    "    for Word in Inscription:\n",
    "        Word = Word.lower()\n",
    "        List_of_Words.append(Word)\n",
    "    List_of_Words.append('.') ##add a stop point to mark the end of the sentence"
   ]
  },
  {
   "cell_type": "code",
   "execution_count": 4,
   "id": "09d2672b",
   "metadata": {
    "scrolled": false
   },
   "outputs": [
    {
     "data": {
      "text/plain": [
       "[(('dis', 'manibus'), 65433),\n",
       " (('.', 'dis'), 62490),\n",
       " (('vixit', 'annos'), 44016),\n",
       " (('manibus', 'sacrum'), 20886),\n",
       " (('bene', 'merenti'), 19361),\n",
       " (('vixit', 'annis'), 16453),\n",
       " (('in', 'pace'), 14158),\n",
       " (('hic', 'situs'), 13493),\n",
       " (('situs', 'est'), 12584),\n",
       " (('est', '.'), 12236)]"
      ]
     },
     "execution_count": 4,
     "metadata": {},
     "output_type": "execute_result"
    }
   ],
   "source": [
    "import nltk\n",
    "from nltk.collocations import *\n",
    "\n",
    "bigram_measures = nltk.collocations.BigramAssocMeasures()\n",
    "finder = BigramCollocationFinder.from_words(List_of_Words) ##create a bigram finder\n",
    "\n",
    "##get the 100 most frequent bigrams in the interpretive texts\n",
    "finder.ngram_fd.most_common(10)"
   ]
  },
  {
   "cell_type": "markdown",
   "id": "42e02e7d",
   "metadata": {},
   "source": [
    "# 1.4.2 NLTK Metrics"
   ]
  },
  {
   "cell_type": "markdown",
   "id": "b2546076",
   "metadata": {},
   "source": [
    "**1.4.2.a Likelihood Ratio Measure**"
   ]
  },
  {
   "cell_type": "markdown",
   "id": "256a66cf",
   "metadata": {},
   "source": [
    "The likelihood ratio measure is a statistical metric that evaluates the strength of association between two words in a bigram. It compares the **observed frequency** of a bigram with the **expected frequency** under the assumption of independence\n",
    "\n",
    "\n",
    "                    LR = 2 * (log-likelihood of observed frequency - log-likelihood of expected frequency)\n",
    "\n",
    "\n",
    "The assumption of independence in collocation analysis refers to the assumption that the occurrences of two words in a bigram are not dependent on each other. By assuming independence, we can establish a baseline expectation for the frequency of a bigram. It's important to note that the assumption of independence is a simplifying assumption made in collocation analysis to quantify the strength of association between words. In reality, the occurrences of words in a corpus can be influenced by various contextual factors, and true independence may not always hold.\n",
    "\n",
    "The likelihood ratio score measures the deviation from this expected frequency. If the observed frequency is significantly higher than the expected frequency, the likelihood ratio score will be larger, indicating a stronger association between the two words in the bigram.\n",
    "\n",
    "For example, if you have a large and representative reference corpus available, you can use the from_corpus_freq() method to estimate the expected frequency based on the frequencies of word pairs in the reference corpus. Alternatively, if you don't have a reference corpus available, you can use the from_words() method to estimate the expected frequency based on the frequencies of the individual words in your list of words."
   ]
  },
  {
   "cell_type": "code",
   "execution_count": 5,
   "id": "c4a9d3f3",
   "metadata": {
    "scrolled": true
   },
   "outputs": [
    {
     "data": {
      "text/plain": [
       "[('dis', 'manibus'),\n",
       " ('.', 'dis'),\n",
       " ('vixit', 'annos'),\n",
       " ('bene', 'merenti'),\n",
       " ('manibus', 'sacrum'),\n",
       " ('in', 'pace'),\n",
       " ('hic', 'situs'),\n",
       " ('situs', 'est'),\n",
       " ('vixit', 'annis'),\n",
       " ('hic', 'sita')]"
      ]
     },
     "execution_count": 5,
     "metadata": {},
     "output_type": "execute_result"
    }
   ],
   "source": [
    "##get the 100 most significant bigrams based on the likelihood ratio measure in the interpretive texts\n",
    "finder.nbest(bigram_measures.likelihood_ratio, 10)"
   ]
  },
  {
   "cell_type": "markdown",
   "id": "a73ea542",
   "metadata": {},
   "source": [
    "**1.4.2.b Pointwise Mutual Information (PMI) Score**"
   ]
  },
  {
   "cell_type": "markdown",
   "id": "3b522edd",
   "metadata": {},
   "source": [
    "The Pointwise Mutual Information (PMI) score measures the extent to which the joint probability of the bigram deviates from the expected probability under the assumption of independence.\n",
    "\n",
    "The formula for calculating the PMI score is as follows:\n",
    "\n",
    "                                       PMI = log2(P(word1, word2) / (P(word1) * P(word2)))\n",
    "\n",
    "In this formula, P(word1, word2) represents the observed probability of the bigram, and P(word1) and P(word2) represent the observed probabilities of the individual words. The observed probability of a bigram refers to the frequency of occurrence of that specific bigram in the corpus relative to the total number of bigrams present. It is calculated by dividing the frequency of the bigram by the total number of bigrams in the corpus.\n",
    "\n",
    "                        Observed probability of a bigram = Frequency of the bigram / Total number of bigrams\n",
    "\n",
    "Consider that since the denominator of the formula includes the individual probabilities of the words, if one or both of the words in a bigram have very low probabilities, the denominator becomes small, resulting in a larger PMI score.\n",
    "\n",
    "This characteristic of PMI can lead to the identification of rare or unique word combinations, but it can also overestimate the significance of certain associations and some expressions are also very infrequent. Therefore it is useful to apply filters, such as ignoring bigrams which occurr less than three times in the corpus.\n",
    "\n",
    "Since PMI takes into account the individual word probabilities, it can capture associations that are not accounted for by the likelihood ratio. As a result, the list of bigrams ranked by PMI may differ from the list ranked by likelihood ratio."
   ]
  },
  {
   "cell_type": "code",
   "execution_count": 6,
   "id": "b4b81ef9",
   "metadata": {
    "scrolled": true
   },
   "outputs": [
    {
     "data": {
      "text/plain": [
       "[('aaascia', 'dddedicaverunt'),\n",
       " ('aabsmun', 'eosa'),\n",
       " ('aai', 'aciihi'),\n",
       " ('aaulis', 'considiis'),\n",
       " ('abacio', 'gavernis'),\n",
       " ('abanv', 'igavsie'),\n",
       " ('abascantis', 'lathymo'),\n",
       " ('abbulae', 'pervincia'),\n",
       " ('abcdefgh', 'savg'),\n",
       " ('abcdefghiklm', 'nopqrstvxyz')]"
      ]
     },
     "execution_count": 6,
     "metadata": {},
     "output_type": "execute_result"
    }
   ],
   "source": [
    "##get the 100 most significant bigrams based on the PMI score in the interpretive texts\n",
    "finder.nbest(bigram_measures.pmi, 10)"
   ]
  },
  {
   "cell_type": "code",
   "execution_count": 7,
   "id": "710cdc74",
   "metadata": {
    "scrolled": true
   },
   "outputs": [
    {
     "data": {
      "text/plain": [
       "[('dolus', 'malus'),\n",
       " ('malus', 'abesto'),\n",
       " ('rei', 'publicae'),\n",
       " ('equo', 'publico'),\n",
       " ('ddominis', 'nnostris'),\n",
       " ('vviris', 'cclarissimis'),\n",
       " ('somno', 'pacis'),\n",
       " ('contra', 'votum'),\n",
       " ('decreto', 'decurionum'),\n",
       " ('monumento', 'dolus'),\n",
       " ('iure', 'dicundo'),\n",
       " ('milia', 'nummum'),\n",
       " ('ulla', 'querella'),\n",
       " ('tribunus', 'militum'),\n",
       " ('equiti', 'singulari'),\n",
       " ('ascia', 'dedicaverunt'),\n",
       " ('domino', 'nostro'),\n",
       " ('consulatum', 'basili'),\n",
       " ('ob', 'merita'),\n",
       " ('huic', 'monumento'),\n",
       " ('sine', 'ulla'),\n",
       " ('famulus', 'dei'),\n",
       " ('datus', 'decreto'),\n",
       " ('eques', 'singularis'),\n",
       " ('ascia', 'dedicavit'),\n",
       " ('equiti', 'romano'),\n",
       " ('viri', 'clarissimi'),\n",
       " ('fieri', 'iussit'),\n",
       " ('post', 'consulatum'),\n",
       " ('clarissimo', 'consule'),\n",
       " ('praetoriae', 'misenensis'),\n",
       " ('tiberio', 'claudio'),\n",
       " ('poni', 'iussit'),\n",
       " ('siti', 'sunt'),\n",
       " ('post', 'obitum'),\n",
       " ('classis', 'praetoriae'),\n",
       " ('basili', 'viri'),\n",
       " ('sua', 'pecunia'),\n",
       " ('pro', 'pietate'),\n",
       " ('tiberi', 'claudi'),\n",
       " ('non', 'sequetur'),\n",
       " ('sub', 'ascia'),\n",
       " ('si', 'quis'),\n",
       " ('heredem', 'non'),\n",
       " ('anima', 'dulcis'),\n",
       " ('eques', 'alae'),\n",
       " ('vir', 'clarissimus'),\n",
       " ('tiberius', 'claudius'),\n",
       " ('domini', 'nostri'),\n",
       " ('anno', 'uno'),\n",
       " ('viro', 'clarissimo'),\n",
       " ('caesaris', 'nostri'),\n",
       " ('monumentum', 'heredem'),\n",
       " ('testamento', 'fieri'),\n",
       " ('testamento', 'poni'),\n",
       " ('anno', 'provinciae'),\n",
       " ('plus', 'minus'),\n",
       " ('locus', 'monumenti'),\n",
       " ('praetoriae', 'centuria'),\n",
       " ('bonae', 'memoriae'),\n",
       " ('iiiiii', 'vir'),\n",
       " ('ponendum', 'curaverunt'),\n",
       " ('locus', 'sepulturae'),\n",
       " ('parentes', 'infelicissimi'),\n",
       " ('locus', 'datus'),\n",
       " ('hoc', 'tumulo'),\n",
       " ('faciendum', 'curavit'),\n",
       " ('pridie', 'nonas'),\n",
       " ('publio', 'aelio'),\n",
       " ('se', 'vivo'),\n",
       " ('tito', 'flavio'),\n",
       " ('libertis', 'libertabus'),\n",
       " ('sub', 'die'),\n",
       " ('faciendum', 'curaverunt'),\n",
       " ('marco', 'ulpio'),\n",
       " ('hoc', 'monumentum'),\n",
       " ('ponendum', 'curavit'),\n",
       " ('faciundum', 'curavit'),\n",
       " ('militi', 'cohortis'),\n",
       " ('terra', 'levis'),\n",
       " ('vir', 'iure'),\n",
       " ('cum', 'compare'),\n",
       " ('memoriae', 'aeternae'),\n",
       " ('amico', 'optimo'),\n",
       " ('singulari', 'augusti'),\n",
       " ('piae', 'fidelis'),\n",
       " ('centurioni', 'legionis'),\n",
       " ('mater', 'infelicissima'),\n",
       " ('nostri', 'servus'),\n",
       " ('xv', 'apollinaris'),\n",
       " ('vir', 'augustalis'),\n",
       " ('cum', 'qua'),\n",
       " ('viri', 'augustalis'),\n",
       " ('viro', 'iure'),\n",
       " ('miles', 'cohortis'),\n",
       " ('tumulo', 'requiescit'),\n",
       " ('vobis', 'terra'),\n",
       " ('ii', 'parthicae'),\n",
       " ('sit', 'vobis'),\n",
       " ('tibi', 'terra')]"
      ]
     },
     "execution_count": 7,
     "metadata": {},
     "output_type": "execute_result"
    }
   ],
   "source": [
    "finder.apply_freq_filter(100) ##apply a filter to the finder\n",
    "finder.nbest(bigram_measures.pmi, 100)"
   ]
  },
  {
   "cell_type": "markdown",
   "id": "897c8916",
   "metadata": {},
   "source": [
    "# 1.4.3 Trigrams, frougrams, ngrams"
   ]
  },
  {
   "cell_type": "code",
   "execution_count": null,
   "id": "859886a7",
   "metadata": {},
   "outputs": [],
   "source": [
    "trigram_measures = nltk.collocations.TrigramAssocMeasures()"
   ]
  },
  {
   "cell_type": "markdown",
   "id": "61c58d35",
   "metadata": {},
   "source": [
    "# 1.4.4 Spanning intervening words"
   ]
  },
  {
   "cell_type": "code",
   "execution_count": null,
   "id": "42f0064a",
   "metadata": {
    "scrolled": true
   },
   "outputs": [],
   "source": [
    "finder = BigramCollocationFinder.from_words(List_of_Words, window_size=3) ##create a bigram finder\n",
    "finder.apply_freq_filter(10) ##apply a filter to the finder\n",
    "#ignored_words =\n",
    "#finder.apply_word_filter(lambda w: len(w) , 3 or w.lower() in ignored_words)\n",
    "finder.nbest(bigram_measures.likelihood_ratio, 100)"
   ]
  }
 ],
 "metadata": {
  "kernelspec": {
   "display_name": "Python 3 (ipykernel)",
   "language": "python",
   "name": "python3"
  },
  "language_info": {
   "codemirror_mode": {
    "name": "ipython",
    "version": 3
   },
   "file_extension": ".py",
   "mimetype": "text/x-python",
   "name": "python",
   "nbconvert_exporter": "python",
   "pygments_lexer": "ipython3",
   "version": "3.9.13"
  }
 },
 "nbformat": 4,
 "nbformat_minor": 5
}
