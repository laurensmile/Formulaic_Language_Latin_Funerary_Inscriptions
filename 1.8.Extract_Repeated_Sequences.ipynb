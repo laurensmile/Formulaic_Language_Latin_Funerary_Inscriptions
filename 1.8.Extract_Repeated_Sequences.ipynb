{
 "cells": [
  {
   "cell_type": "markdown",
   "id": "3ff164aa",
   "metadata": {},
   "source": [
    "# Extraction of Sequences Repeated at least Twice in the Corpus"
   ]
  },
  {
   "cell_type": "markdown",
   "id": "c2b68d2a",
   "metadata": {},
   "source": [
    "In this notebook, sequences of words occurring at least twice in the corpus are extracted.\n",
    "\n",
    "The extraction starts with the calculation of the longest repeated sequences of tokens. To do this, the lenght of the longest inscriptions is calculated. It is 1,315 tokens and it is the longest possible repeated sequence in the whole corpus.\n",
    "\n",
    "Then, a loop iterates over a range of values of i starting from 1,315 going down to 1. For each i, a list of n-grams is created for each inscription using the NLTK ngram function.\n",
    "\n",
    "The list of n-grams is flattened (flat_list) and the presence of duplicates is checked by iterating over each n-gram in flat_lis starting from the longest one. If a duplicate is found, the loop is terminated. The longest repeated sequence is 61 tokens.\n",
    "\n",
    "A function is defined (repeated_seq function) that takes the list of tokenized sentences and an integer n as input. The integer ranges from 61 to 2. The function finds all the n-grams of length n in each sentence and stores them in a list. The list if flattened and a counter is used to count the occurrences of each n-gram in the flattened list. If the n-gram is repeated, the n-gram and its counts are appended to the new counter.\n",
    "\n",
    "To do the extraction, we used the texts containing indications of blanks within the line. In this way, not consecutive words can be isolated in the counting."
   ]
  },
  {
   "cell_type": "code",
   "execution_count": 1,
   "id": "8dc43a68",
   "metadata": {},
   "outputs": [],
   "source": [
    "import pandas as pd\n",
    "import os\n",
    "import xml.etree.ElementTree as ET\n",
    "from nltk.tokenize import sent_tokenize, word_tokenize\n",
    "import re\n",
    "from nltk.util import ngrams\n",
    "import collections\n",
    "from collections import Counter\n",
    "import pickle"
   ]
  },
  {
   "cell_type": "code",
   "execution_count": 2,
   "id": "edb3af1e",
   "metadata": {},
   "outputs": [],
   "source": [
    "##open the dataset of funerary inscriptions (172,958 rows)\n",
    "Inscriptions = pd.read_csv(\"/Users/u0154817/OneDrive - KU Leuven/Documents/ICLL Prague June 2023/Output/Tituli_Sepulcrales_new.csv\")"
   ]
  },
  {
   "cell_type": "code",
   "execution_count": 3,
   "id": "2fe14dfd",
   "metadata": {},
   "outputs": [
    {
     "name": "stdout",
     "output_type": "stream",
     "text": [
      "1345\n"
     ]
    }
   ],
   "source": [
    "##find the longest inscription\n",
    "\n",
    "len_tokenized_inscriptions = []\n",
    "list_tokenized_inscriptions = []\n",
    "\n",
    "for i,inscription in enumerate(Inscriptions['inscription']):\n",
    "    inscription = str(inscription)\n",
    "    cleaned_inscription = re.sub(r\"[\\(\\){}\\[\\]/]\", \"\", inscription) ##remove all the special characters except '3' and '6'\n",
    "    lower_inscription = cleaned_inscription.lower() ##lower all the character in the sentence\n",
    "    tokenized_inscription = word_tokenize(lower_inscription)\n",
    "    len_tokenized_inscriptions.append(len(tokenized_inscription))\n",
    "    list_tokenized_inscriptions.append(tokenized_inscription)\n",
    "    \n",
    "max_len = max(len_tokenized_inscriptions)\n",
    "print(max_len)"
   ]
  },
  {
   "cell_type": "code",
   "execution_count": 4,
   "id": "094b85cf",
   "metadata": {},
   "outputs": [
    {
     "data": {
      "text/plain": [
       "118843"
      ]
     },
     "execution_count": 4,
     "metadata": {},
     "output_type": "execute_result"
    }
   ],
   "source": [
    "##get the index of the longest inscription\n",
    "index_longest_inscription = len_tokenized_inscriptions.index(max_len)\n",
    "index_longest_inscription"
   ]
  },
  {
   "cell_type": "code",
   "execution_count": 5,
   "id": "10aaffc9",
   "metadata": {
    "scrolled": true
   },
   "outputs": [
    {
     "data": {
      "text/plain": [
       "'uxoris morum probitate rum permansisti proba orbata es repente ante nuptiarum diem utro que parente in deserta solitudine una occisis per te maxime cum ego in Macedoniam provinciam issem vir sororis tuae Caius Cluvius in Africam provinciam inulta non est relicta mors parentum tanta cum industria munere es pietatis perfuncta efflagitando at que vindicando ut si praesto fuissemus non amplius potuissemus sed haec habes communia cum sanctissima femina sorore tua quae dum agitabas ex patria domo propter custodiam non cedisti sumpto de nocentibus supplicio evestigio te in domum matris meae tulisti ubi adventum meum expectasti temptatae deinde estis ut testamentum quo nos eramus heredes ruptum diceretur coemptione facta cum uxore ita necessario te cum universis patris bonis in tutelam eorum qui rem agitabant reccidisse sororem omnino eorum bonorum fore expertem quod emancupata esset Cluvio qua mente ista acceperis qua praesentia animi restiteris etsi afui conpertum habeo veritate causam communem tutata es testamentum ruptum non esse ut uter que potius hereditatem teneremus quam omnia bona sola possideres certa quidem sententia te ita patris acta defensuram ut si non optinuisses partituram cum sorore te adfirmares nec sub condicionem tutelae legitimae venturam quoius per legem in te ius non esset ne que enim familiae gens ulla probari poterat quae te id facere impediret nam etsi patris testamentum ruptum esset tamen iis qui intenderent non esse id ius quia gentis eiusdem non essent cesserunt constantiae tuae ne que amplius rem sollicitarunt quo facto officii in patrem pietatis in sororem fidei in nos patrocinium susceptum sola peregisti rara sunt tam diuturna matrimonia finita morte non divertio interrupta contigit nobis ut ad annum XXXXI sine offensa perduceretur utinam vetusta coniunctio habuisset mutationem vice mea qua iustius erat cedere fato maiorem domestica bona pudicitiae obsequi comitatis facilitatis lanificii studii religionis sine superstitione ornatus non conspicendi cultus modici cur memorem cur dicam de caritate familiae pietate cum ae que matrem meam ac tuos parentes colueris non alia mente illi quam tuis curaveris cetera innumerabilia habueris communia cum omnibus matronis dignam famam colentibus propria sunt tua quae vindico ac paucae uxores in similia inciderunt ut talia paterentur et praestarent quae rara ut essent propitia fortuna cavit omne tuum patrimonium acceptum ab parentibus communi diligentia conservavimus ne que enim erat adquirendi tibi cura quod totum mihi tradisti officia ita partiti sumus ut ego tutelam tuae fortunae gererem ut meae custodiam sustineres multa de hac parte omittam ne tua propria mecum communicem satis sit hoc mihi tuis de sensibus indicasse liberalitatem tuam cum plurimis necessariis tum praecipue pietati praestitisti licet quis alias nominaverit unam dumtaxat simillimam tui habuisti sororem tuam nam propinquas vestras dignas eiusmodi beneficiis domibus vestris apud nos educavistis eadem ut condiciones aptas familiae vestrae consequi possent dotes parastis quas quidem a vobis constitutas communi consilio ego et Caius Cluvius excepimus et probantes sensus vestros ne vestro patrimonio vos multaretis nostram rem familiarem subdidimus vestrae nostra que bona in dotes dedimus quod non venditandi nostri causa memoravi sed ut illa consilia vestra concepta pia liberalitate honori nos duxisse constaret exequi de nostris multa alia merita tua praetermittenda mihi sunt varia et ampla subsidia fugae meae praestitisti ornamentis me instruxisti cum omne aurum margarita que corpori tuo accomodata tradisti mihi et subinde familia nummis fructibus deceptis nostrorum adversariorum custodibus absentiam meam locupletasti publicatis bonis repetitis quod ut conarere virtus tua te hortabatur mira pietas tua me munibat clementia eorum contra quos ea parabas nihilo minus tamen vox tua est firmitate animi emissa agmen conlectum ex repertis hominibus a Milone quoius domus emptione potitus eram cum ille fuisset exul belli civilis occasonibus inrupturum et direpturum reiecisti et defendisti domum nostram iure Caesar dixit tibi acceptum esse referendum extare adhuc me patriae redditum a se nam nisi parasses quod servaret cavens saluti meae inaniter opes suas polliceretur ita non minus pietati tuae quam Caesari me debeo quid ego nunc interiora nostra et recondita consilia sermones que arcanos eruam ut repentinis nuntiis ad praesentia et imminentia pericula evocatus tuis consiliis conservatus sim ut ne que audacius experiri casus temere passa sis et modestiora cogitanti fida receptacula pararis socios que consiliorum tuorum ad me servandum delegeris sororem tuam et virum eius Caium Cluvium coniuncto omnium periculo infinita sint si attingere coner sat sit mihi tibi que salutariter me latuisse acerbissumum tamen in vita mihi accidisse tua vice fatebor reddito me iam cive patriae beneficio et iudicio absentis Caesaris Augusti quom abs te de restitutione mea Marcus Lepidus conlega praesens interpellaretur et ad eius pedes prostrata humi non modo non adlevata sed traducta et indignum in modum rapsata livoribus corporis repleta firmissimo animo eum admoneres edicti Caesaris cum gratulatione restitutionis meae at que vocibus etiam contumeliosis et crudelibus exceptis volneribus palam conquereris ut auctor meorum periculorum notesceret quoi nocuit mox ea res quid hac virtute efficacius praebere Caesari clementiae locum et cum custodia spiritus mei notare importunam crudelitatem Lepidi firma tua patientia sed quid plura parcamus orationi quae debet et potest esse brevis ne maxima opera tractando parum digne peragamus quom pro maximo documento meritorum tuorum oculis omnium praeferam titulum salutis meae pacato orbe terrarum restituta re publica quieta deinde nobis et felicia tempora contingerunt fuerunt optati liberi quos aliquamdiu sors nobis inviderat si fortuna procedere esset passa sollemnis inserviens quid utri que nostrum defuit procedens alias spem finiebat quid agitaveris propterea quae que ingredi conata sis fors sit an in quibusdam feminis conspicua et memorabilia in te quidem minime admiranda conlata virtutibus ceteris omittam diffidens fecunditati tuae et dolens orbitate mea ne tenendo in matrimonio te spem habendi liberos deponerem at que eius caussa essem infelix de divertio elocuta es vocuam que domum alterius fecunditati te tradituram non alia mente nisi ut nota concordia nostra tu ipsa mihi dignam et aptam condicionem quaereres parares que ac futuros liberos te communes pro que tuis habituram adfirmares ne que patrimonii nostri quod adhuc fuerat commune separationem facturam sed in eodem arbitrio meo id et si vellem tuo ministerio futurum nihil seiunctum nihil separatum te habituram sororis socrusve officia pietatem que mihi dehinc praestituram fatear necesset adeo me exarsisse ut excesserim mente adeo exhoruisse conatus tuos ut vix redderer mihi agitari divertia inter nos ante quam nobis fato dicta lex esset posse te aliquid concipere mente quare vivo me desineres esse mihi uxor cum paene exule me vita fidissima permansisses quae tanta mihi fuerit cupiditas aut necessitas habendi liberos ut propterea fidem exuerem mutarem certa dubiis sed quid plura cedens mihi mansisti apud me ne que enim cedere tibi sine dedecore meo et communi infelicitate poteram tibi vero quid memorabilius quam inserviendo mihi consilium cepisse ut quom ex te liberos habere non possem per te tamen haberem et diffidentia partus tui alterius coniugio parares fecunditatem utinam patiente utrius que aetate procedere coniugium potuisset donec elato me maiore quod iustius erat suprema mihi praestares ego enim superstite te excederem orbitate filia mihi substituta praecucurristi fato delegasti mihi luctum desiderio tui nec liberos futuros me miserum reliquisti flectam ego quo que sensus meos ad iudicia tua omnia tua cogitata praescripta cedant laudibus tuis ut sint mihi solacia ne nimis desiderem quod inmortalitati ad memoriam consecratum est fructus vitae tuae non derunt mihi occurrente fama tua firmatus animo at que doctus actis tuis resistam fortunae quae mihi non omnia eripuit sed cum laudibus crescere tui memoriam passa est sed quod tranquilli status erat mihi tecum amisi quam speculatricem et propugnatricem meorum periculorum cogitans calamitate frangor nec permanere in promisso possum naturalis dolor extorquet constantiae vires maerore mersor et quibus angos luctu aedio que in necutro mihi consto repetens pristinos casus meos futuros que eventus cogitans concido mihi tantis talibus que praesidiis orbatus intuens famam tuam non tam constanter patiendo haec quam ad desiderium luctum que reservatus videor ultimum huius orationis erit omnia meruisse te ne que omnia contigisse mihi ut praestarem tibi legem habui mandata tua quod extra mihi liberum fuerit praestabo te di Manes tui ut quietam patiantur at que ita tueantur opto'"
      ]
     },
     "execution_count": 5,
     "metadata": {},
     "output_type": "execute_result"
    }
   ],
   "source": [
    "##get the text of the longest inscription\n",
    "Inscriptions['inscription_interpretive_cleaning'][index_longest_inscription]"
   ]
  },
  {
   "cell_type": "code",
   "execution_count": 6,
   "id": "1f2b3d5c",
   "metadata": {
    "scrolled": true
   },
   "outputs": [
    {
     "name": "stdout",
     "output_type": "stream",
     "text": [
      "When the loop is terminated, the i value is : 61\n"
     ]
    }
   ],
   "source": [
    "##find the longest repeated sequence (61 tokens)\n",
    "\n",
    "i=max_len ##=1315 tokens\n",
    "dupl=False\n",
    "while (i>0) & (dupl==False): ##iterate over a range of values of i from max_len to 1\n",
    "    list_n_grams=[]\n",
    "    for tokenized_inscription in list_tokenized_inscriptions: ##for each tokenized inscriptions\n",
    "        if len(tokenized_inscription)>=i:\n",
    "            n_grams=list(ngrams(tokenized_inscription, i)) ##create a list of n_grams, the n-gram lenght is equal to i\n",
    "            if (len(n_grams)>0):\n",
    "                list_n_grams.append(n_grams)\n",
    "    flat_list = [item for sublist in list_n_grams for item in sublist] ##flatten the list\n",
    "    #print(flat_list)\n",
    "    #print(i)\n",
    "    new_list=[]\n",
    "    for gram in flat_list:\n",
    "        if not(gram in new_list): ##check for duplicates\n",
    "            new_list.append(gram)\n",
    "        else:\n",
    "            dupl=True ##if a duplicate is found, the loop is terminated\n",
    "            print('When the loop is terminated, the i value is :', i)\n",
    "    i-=1"
   ]
  },
  {
   "cell_type": "code",
   "execution_count": 7,
   "id": "5826d8cd",
   "metadata": {},
   "outputs": [],
   "source": [
    "longest_repeated_sequence= 61"
   ]
  },
  {
   "cell_type": "code",
   "execution_count": 8,
   "id": "7ccb8c3a",
   "metadata": {},
   "outputs": [],
   "source": [
    "def repeated_seq (lst, n): ##take a list of sentences and an integer as input\n",
    "    list_n_grams=[]\n",
    "    for sent in lst:\n",
    "        if len(sent)>=n:\n",
    "            n_grams=list(ngrams(sent, n)) ##find all the n-grams of lenght i in each sentence\n",
    "            list_n_grams.append(n_grams) ##append all the found n-grams in a list\n",
    "    flat_list = [item for sublist in list_n_grams for item in sublist] ##flatten the list\n",
    "    c=Counter(flat_list) ##count the occurrences of each n-gram in the flattened list\n",
    "    ##c contains the n-grams and their counts\n",
    "    new_counter = Counter() ##create an empty counter object\n",
    "    for element, count in c.items():\n",
    "        if count > 1: ##if the count is greater than 1\n",
    "            new_counter[element] = count ##add the count to new_counter\n",
    "    return new_counter ##the new_counter contains the repeated n-grams and their counts"
   ]
  },
  {
   "cell_type": "code",
   "execution_count": null,
   "id": "a155f48b",
   "metadata": {},
   "outputs": [],
   "source": [
    "#for i in range(0, 13):\n",
    "    #grams=repeated_seq(tok_sent, 14-i)\n",
    "    #print(i)\n",
    "    #name='final_grams/grams_'+str(14-i)\n",
    "    #file = open(name, \"wb\")\n",
    "    #pickle.dump(grams, file)\n",
    "    #file.close()"
   ]
  },
  {
   "cell_type": "code",
   "execution_count": 9,
   "id": "e558ff2d",
   "metadata": {
    "scrolled": true
   },
   "outputs": [
    {
     "name": "stdout",
     "output_type": "stream",
     "text": [
      "0\n",
      "1\n",
      "2\n",
      "3\n",
      "4\n",
      "5\n",
      "6\n",
      "7\n",
      "8\n",
      "9\n",
      "10\n",
      "11\n",
      "12\n",
      "13\n",
      "14\n",
      "15\n",
      "16\n",
      "17\n",
      "18\n",
      "19\n",
      "20\n",
      "21\n",
      "22\n",
      "23\n",
      "24\n",
      "25\n",
      "26\n",
      "27\n",
      "28\n",
      "29\n",
      "30\n",
      "31\n",
      "32\n",
      "33\n",
      "34\n",
      "35\n",
      "36\n",
      "37\n",
      "38\n",
      "39\n",
      "40\n",
      "41\n",
      "42\n",
      "43\n",
      "44\n",
      "45\n",
      "46\n",
      "47\n",
      "48\n",
      "49\n",
      "50\n",
      "51\n",
      "52\n",
      "53\n",
      "54\n",
      "55\n",
      "56\n",
      "57\n",
      "58\n",
      "59\n"
     ]
    }
   ],
   "source": [
    "for i in range(0, 60): ##range between 0-59\n",
    "    grams=repeated_seq(list_tokenized_inscriptions, longest_repeated_sequence-i) ##find all the n-grams of lenght 78-i in each sentence\n",
    "    print(i)\n",
    "    name='grams_'+str(longest_repeated_sequence-i)\n",
    "    file = open(name, \"wb\")\n",
    "    pickle.dump(grams, file)\n",
    "    file.close()"
   ]
  },
  {
   "cell_type": "code",
   "execution_count": 16,
   "id": "41b9f720",
   "metadata": {},
   "outputs": [],
   "source": [
    "with open('grams_2', 'rb') as f:\n",
    "    x = pickle.load(f)"
   ]
  },
  {
   "cell_type": "code",
   "execution_count": 18,
   "id": "76110a09",
   "metadata": {
    "scrolled": true
   },
   "outputs": [
    {
     "data": {
      "text/plain": [
       "[(('dis', 'manibus'), 64389),\n",
       " (('vixit', 'annos'), 41692),\n",
       " (('manibus', 'sacrum'), 20845),\n",
       " (('bene', 'merenti'), 18850),\n",
       " (('vixit', 'annis'), 15365),\n",
       " (('in', 'pace'), 13574),\n",
       " (('hic', 'situs'), 13430),\n",
       " (('situs', 'est'), 11563),\n",
       " (('3', '3'), 8786),\n",
       " (('sibi', 'et'), 8271)]"
      ]
     },
     "execution_count": 18,
     "metadata": {},
     "output_type": "execute_result"
    }
   ],
   "source": [
    "x.most_common(10)"
   ]
  }
 ],
 "metadata": {
  "kernelspec": {
   "display_name": "Python 3 (ipykernel)",
   "language": "python",
   "name": "python3"
  },
  "language_info": {
   "codemirror_mode": {
    "name": "ipython",
    "version": 3
   },
   "file_extension": ".py",
   "mimetype": "text/x-python",
   "name": "python",
   "nbconvert_exporter": "python",
   "pygments_lexer": "ipython3",
   "version": "3.9.13"
  }
 },
 "nbformat": 4,
 "nbformat_minor": 5
}
