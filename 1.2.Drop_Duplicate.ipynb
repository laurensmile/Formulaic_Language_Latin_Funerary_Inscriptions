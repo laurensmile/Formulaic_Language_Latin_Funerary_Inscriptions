{
 "cells": [
  {
   "cell_type": "markdown",
   "id": "c8d91538",
   "metadata": {},
   "source": [
    "# Preparation of the Corpus of Latin Funerary Inscriptions"
   ]
  },
  {
   "cell_type": "markdown",
   "id": "1c9732bc",
   "metadata": {},
   "source": [
    "These steps were necessary to clean the dataset resulting from the scraping and obtain representative data to perform the linguistic analysis. The new dataset contains 172,958 inscriptions.\n",
    "\n",
    "**Duplicates**\n",
    "\n",
    "Inspecting the resulting dataset (184,097 rows), it was observed that it contains 419 duplicates (rows with the same EDCS-ID). All the rows with the same EDCS-ID also have the same text. Duplicates were removed using duplicate.drop.\n",
    "\n",
    "**No text or text with less than three characters**\n",
    "\n",
    "Then, the content of the 'inscription' column was inspected. 385 rows do not contain any text. Moreover, 4,660 rows contain a '?' value for the text. Some of the inscriptions are badly damaged and the interpretative reading of the text contains less than 3 letters (i.e., 'A'). All these rows were removed from the dataset. Inscriptions containing 3 or more words (i.e., 'Hic') are included in the dataset.\n",
    "\n",
    "**Language**\n",
    "\n",
    "In the EDCS, some inscriptions in other languages (Greek, Iberian, Punic, ...) are incorporated (i.e., EDCS-ID79500060). Since no language parameter is included in LatEpig, the dataset also contains texts in other language than Latin and bilingual texts.\n",
    "\n",
    "The LatEpigr includes the metadata language that is described as: \"Language of an inscription other than Latin, abbreviation for languages other than Latin, e.g. \"\"GR\"\" for Greek, extracted from the inscription attribute. Latin is default value (empty means Latin), as provided by the EDCS\".\n",
    "\n",
    "If we inspect the output of the scraping, we observe that the use of language labels is inconsistent. For instance, EDCS-ID62900013 has the metadata 'GR', while the Greek inscription EDCS-ID79500060 hasn't. This is due to the fact that the scraping contains a language label only if there is a language marker (i.e., 'GR', 'KELT') in the text used by the EDCS editors to indicate the presence of a section in another language. In the EDCS edition, this label is in the text (i.e., P(ubli) Antisti / Venusti // \"GR\"), while in the output of LatEpig this information is split and collocated in the 'language' column.\n",
    "\n",
    "To remove inscriptions in other languages, a list was created containing all the EDCS-IDs of the funerary inscriptions in Greek (gr), Punic (pu), Iberian (ib), Hebrew (he), Etruscan (et), Lepontic (le), Oscian (os), Palmyrene (pa), Safaitic (sa), Venetian (ve). The list was created manually searching the EDCS database and using BeautifulSoup on the html result page. Then, the IDs were checked against the dataset and the corresponding rows were filtered out."
   ]
  },
  {
   "cell_type": "code",
   "execution_count": 1,
   "id": "28cfa2ba",
   "metadata": {},
   "outputs": [],
   "source": [
    "import pandas as pd\n",
    "from bs4 import BeautifulSoup"
   ]
  },
  {
   "cell_type": "code",
   "execution_count": 2,
   "id": "f4699492",
   "metadata": {},
   "outputs": [],
   "source": [
    "##open the file containing the dataset resulting from the scraping (184,097)\n",
    "Inscriptions = pd.read_csv(\"/Users/u0154817/OneDrive - KU Leuven/Documents/ICLL Prague June 2023/Output/Tituli_Sepulcrales.csv\")"
   ]
  },
  {
   "cell_type": "code",
   "execution_count": 3,
   "id": "78080d0b",
   "metadata": {
    "scrolled": true
   },
   "outputs": [
    {
     "data": {
      "text/plain": [
       "184097"
      ]
     },
     "execution_count": 3,
     "metadata": {},
     "output_type": "execute_result"
    }
   ],
   "source": [
    "##calculate the lenght of the dataset\n",
    "Len_from_LatEpig = len(Inscriptions)\n",
    "Len_from_LatEpig"
   ]
  },
  {
   "cell_type": "code",
   "execution_count": 4,
   "id": "831def92",
   "metadata": {},
   "outputs": [
    {
     "data": {
      "text/plain": [
       "EDCS-47300081    2\n",
       "EDCS-10801210    2\n",
       "EDCS-10801207    2\n",
       "EDCS-10801206    2\n",
       "EDCS-10801205    2\n",
       "                ..\n",
       "EDCS-10501903    1\n",
       "EDCS-10501904    1\n",
       "EDCS-10501905    1\n",
       "EDCS-10501906    1\n",
       "EDCS-10700051    1\n",
       "Name: EDCS-ID, Length: 183678, dtype: int64"
      ]
     },
     "execution_count": 4,
     "metadata": {},
     "output_type": "execute_result"
    }
   ],
   "source": [
    "Inscriptions['EDCS-ID'].value_counts()"
   ]
  },
  {
   "cell_type": "code",
   "execution_count": 5,
   "id": "7d9eb99b",
   "metadata": {},
   "outputs": [
    {
     "name": "stdout",
     "output_type": "stream",
     "text": [
      "419\n"
     ]
    }
   ],
   "source": [
    "##count the number of times the same EDCS-ID appears twice in the dataset\n",
    "Value_Counts = Inscriptions['EDCS-ID'].value_counts()\n",
    "Count_Twice = Value_Counts[Value_Counts == 2].count()\n",
    "print(Count_Twice)"
   ]
  },
  {
   "cell_type": "code",
   "execution_count": 6,
   "id": "432cca0f",
   "metadata": {},
   "outputs": [
    {
     "data": {
      "text/plain": [
       "0"
      ]
     },
     "execution_count": 6,
     "metadata": {},
     "output_type": "execute_result"
    }
   ],
   "source": [
    "##groups the rows by the \"EDCS-ID\" column\n",
    "##calculates the number of unique values in the \"inscription\" column for each group\n",
    "##compare the number of unique values to 1\n",
    "##return a boolean series where True indicates groups with different inscription values\n",
    "##print the count of rows with the same EDCS-ID and different inscription\n",
    "Inscriptions.groupby(\"EDCS-ID\")[\"inscription\"].nunique().gt(1).sum()"
   ]
  },
  {
   "cell_type": "code",
   "execution_count": 7,
   "id": "d4e83598",
   "metadata": {},
   "outputs": [],
   "source": [
    "##drop the duplicates\n",
    "Inscriptions.drop_duplicates(subset='EDCS-ID', inplace=True)"
   ]
  },
  {
   "cell_type": "code",
   "execution_count": 8,
   "id": "a8022adc",
   "metadata": {},
   "outputs": [],
   "source": [
    "No_Duplicate_Len = len(Inscriptions)"
   ]
  },
  {
   "cell_type": "code",
   "execution_count": 9,
   "id": "2869b699",
   "metadata": {},
   "outputs": [
    {
     "data": {
      "text/plain": [
       "True"
      ]
     },
     "execution_count": 9,
     "metadata": {},
     "output_type": "execute_result"
    }
   ],
   "source": [
    "##check the number of rows removed\n",
    "No_Duplicate_Len == Len_from_LatEpig - Count_Twice"
   ]
  },
  {
   "cell_type": "code",
   "execution_count": 10,
   "id": "04ac46f2",
   "metadata": {},
   "outputs": [
    {
     "data": {
      "text/plain": [
       "385"
      ]
     },
     "execution_count": 10,
     "metadata": {},
     "output_type": "execute_result"
    }
   ],
   "source": [
    "##count the number of rows that do not contain a text\n",
    "NaN_count = Inscriptions['inscription'].isna().sum()\n",
    "NaN_count"
   ]
  },
  {
   "cell_type": "code",
   "execution_count": 11,
   "id": "a66dfdc4",
   "metadata": {},
   "outputs": [],
   "source": [
    "##drop rows with NaN values in 'inscription' column\n",
    "Inscriptions = Inscriptions.dropna(subset=['inscription'])"
   ]
  },
  {
   "cell_type": "code",
   "execution_count": 12,
   "id": "37c10be2",
   "metadata": {},
   "outputs": [],
   "source": [
    "No_NaN_len = len(Inscriptions)"
   ]
  },
  {
   "cell_type": "code",
   "execution_count": 13,
   "id": "875d69bd",
   "metadata": {},
   "outputs": [
    {
     "data": {
      "text/plain": [
       "True"
      ]
     },
     "execution_count": 13,
     "metadata": {},
     "output_type": "execute_result"
    }
   ],
   "source": [
    "##check the number of rows removed\n",
    "No_NaN_len == No_Duplicate_Len - NaN_count"
   ]
  },
  {
   "cell_type": "code",
   "execution_count": 14,
   "id": "d8dbfa53",
   "metadata": {},
   "outputs": [
    {
     "data": {
      "text/plain": [
       "?                           4660\n",
       "D(is) M(anibus)              208\n",
       "D(is) M(anibus) / [          200\n",
       "[D(is)] M(anibus) / [         74\n",
       "D(is) M(anibus) s(acrum)      68\n",
       "Name: inscription, dtype: int64"
      ]
     },
     "execution_count": 14,
     "metadata": {},
     "output_type": "execute_result"
    }
   ],
   "source": [
    "##inspect the inscription column\n",
    "Inscriptions['inscription'].value_counts().head(5)"
   ]
  },
  {
   "cell_type": "code",
   "execution_count": 15,
   "id": "96e1f7a9",
   "metadata": {},
   "outputs": [],
   "source": [
    "##drop rows with '?' value in 'inscription' column\n",
    "Inscriptions = Inscriptions[Inscriptions['inscription'] != '?']"
   ]
  },
  {
   "cell_type": "code",
   "execution_count": 16,
   "id": "bc3739bf",
   "metadata": {},
   "outputs": [],
   "source": [
    "No_QuestionMark_len = len(Inscriptions)"
   ]
  },
  {
   "cell_type": "code",
   "execution_count": 17,
   "id": "04c979ed",
   "metadata": {},
   "outputs": [
    {
     "data": {
      "text/plain": [
       "True"
      ]
     },
     "execution_count": 17,
     "metadata": {},
     "output_type": "execute_result"
    }
   ],
   "source": [
    "##check the number of rows removed\n",
    "No_QuestionMark_len == No_NaN_len - 4660"
   ]
  },
  {
   "cell_type": "code",
   "execution_count": 18,
   "id": "5208a866",
   "metadata": {
    "scrolled": true
   },
   "outputs": [
    {
     "data": {
      "text/plain": [
       "117"
      ]
     },
     "execution_count": 18,
     "metadata": {},
     "output_type": "execute_result"
    }
   ],
   "source": [
    "##count rows where length of 'inscription' is lower than 4\n",
    "Smaller_than_Three = Inscriptions[Inscriptions['inscription'].str.len() < 3]\n",
    "len(Smaller_than_Three)"
   ]
  },
  {
   "cell_type": "code",
   "execution_count": 19,
   "id": "ddab92d8",
   "metadata": {},
   "outputs": [],
   "source": [
    "##filter out rows where length of 'inscription' is lower than 4\n",
    "Inscriptions = Inscriptions[~(Inscriptions['inscription'].str.len() < 3)]"
   ]
  },
  {
   "cell_type": "code",
   "execution_count": 20,
   "id": "35720c1d",
   "metadata": {},
   "outputs": [],
   "source": [
    "No_less_than_three = len(Inscriptions)"
   ]
  },
  {
   "cell_type": "code",
   "execution_count": 21,
   "id": "28ff80d1",
   "metadata": {},
   "outputs": [
    {
     "data": {
      "text/plain": [
       "True"
      ]
     },
     "execution_count": 21,
     "metadata": {},
     "output_type": "execute_result"
    }
   ],
   "source": [
    "##check the number of rows removed\n",
    "No_less_than_three == No_QuestionMark_len - len(Smaller_than_Three)"
   ]
  },
  {
   "cell_type": "code",
   "execution_count": 22,
   "id": "7b80ce32",
   "metadata": {
    "scrolled": true
   },
   "outputs": [
    {
     "data": {
      "text/plain": [
       "6045"
      ]
     },
     "execution_count": 22,
     "metadata": {},
     "output_type": "execute_result"
    }
   ],
   "source": [
    "##create a list containing the EDCS-IDs of the texts in other languages than Latin (6,045)\n",
    "EDCS_ID_to_Remove = [] ##create a list\n",
    "\n",
    "def extract_EDCS_IDs(filename): ##define the function\n",
    "    path = '/Users/u0154817/OneDrive - KU Leuven/Documents/ICLL Prague June 2023/EDCS_Latin_Funerary_Inscriptions/'+filename+\".html\"\n",
    "    soup = ve_titulisepulcales = BeautifulSoup(open(path, encoding='utf-8'), features=\"lxml\") ##open the page as soup\n",
    "    b_tags = soup.find_all(\"b\") ##find all the b_tags\n",
    "    for b_tag in b_tags:\n",
    "        if b_tag.get_text() == 'EDCS-ID:': ##get the EDCS-ID tag\n",
    "            EDCS_ID = b_tag.next_sibling[1:]  ##get the EDCS-ID\n",
    "            EDCS_ID_to_Remove.append(EDCS_ID)\n",
    "            \n",
    "filenames = [\"EDCS_ve_titulisepulcrales_2\", 'EDCS_et_titulisepulcrales_49', \"EDCS_gr_titulisepulcrales_5944\", \"EDCS_he_titulisepulcrales_4\", \"EDCS_ib_titulisepulcrales_7\", \"EDCS_le_titulisepulcrales_4\", \"EDCS_os_titulisepulcrales_4\", \"EDCS_pu_titulisepulcrales_30\"]\n",
    "for filename in filenames:\n",
    "    extract_EDCS_IDs(filename)\n",
    "    \n",
    "len(EDCS_ID_to_Remove)"
   ]
  },
  {
   "cell_type": "code",
   "execution_count": 23,
   "id": "405a446d",
   "metadata": {},
   "outputs": [],
   "source": [
    "##remove the inscriptions in other languages\n",
    "Inscriptions = Inscriptions[~Inscriptions[\"EDCS-ID\"].isin(EDCS_ID_to_Remove)]"
   ]
  },
  {
   "cell_type": "code",
   "execution_count": 24,
   "id": "5fb51ebd",
   "metadata": {},
   "outputs": [],
   "source": [
    "##reset the index\n",
    "Inscriptions.reset_index(inplace=True)"
   ]
  },
  {
   "cell_type": "code",
   "execution_count": 25,
   "id": "1567ed3c",
   "metadata": {},
   "outputs": [
    {
     "data": {
      "text/plain": [
       "172958"
      ]
     },
     "execution_count": 25,
     "metadata": {},
     "output_type": "execute_result"
    }
   ],
   "source": [
    "##calculate the lenght of the resulting dataset (172,958)\n",
    "len(Inscriptions)"
   ]
  },
  {
   "cell_type": "code",
   "execution_count": 26,
   "id": "0ed18bb7",
   "metadata": {},
   "outputs": [
    {
     "data": {
      "text/plain": [
       "11139"
      ]
     },
     "execution_count": 26,
     "metadata": {},
     "output_type": "execute_result"
    }
   ],
   "source": [
    "##tot number of rows during the cleaning (11,139)\n",
    "Len_from_LatEpig - len(Inscriptions)"
   ]
  },
  {
   "cell_type": "code",
   "execution_count": 27,
   "id": "5c8421e6",
   "metadata": {},
   "outputs": [],
   "source": [
    "Inscriptions.to_csv('Tituli_Sepulcrales_new.csv', index=False)"
   ]
  }
 ],
 "metadata": {
  "kernelspec": {
   "display_name": "Python 3 (ipykernel)",
   "language": "python",
   "name": "python3"
  },
  "language_info": {
   "codemirror_mode": {
    "name": "ipython",
    "version": 3
   },
   "file_extension": ".py",
   "mimetype": "text/x-python",
   "name": "python",
   "nbconvert_exporter": "python",
   "pygments_lexer": "ipython3",
   "version": "3.9.13"
  }
 },
 "nbformat": 4,
 "nbformat_minor": 5
}
