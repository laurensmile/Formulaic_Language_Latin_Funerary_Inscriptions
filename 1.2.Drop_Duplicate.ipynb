{
 "cells": [
  {
   "cell_type": "markdown",
   "id": "c8d91538",
   "metadata": {},
   "source": [
    "# Preparation of the Corpus of Latin Funerary Inscriptions"
   ]
  },
  {
   "cell_type": "markdown",
   "id": "1c9732bc",
   "metadata": {},
   "source": [
    "Inspecting the resulting dataset (184,097 rows), it was observed that it contains 419 duplicates (rows with the same EDCS-ID). All the rows with the same EDCS-ID also have the same text. Duplicates were removed using duplicate.drop.\n",
    "\n",
    "Then, the content of the 'inscription' column was inspected. 385 rows do not contain any text. Moreover, 4,660 rows contain a '?' value for the text. Some of the inscriptions are badly damaged and the interpretative reading of the text contains less than 3 letters (i.e., 'A'). All these rows were removed from the dataset.\n",
    "\n",
    "The new dataset contains 178,516 inscriptions."
   ]
  },
  {
   "cell_type": "code",
   "execution_count": 1,
   "id": "28cfa2ba",
   "metadata": {},
   "outputs": [],
   "source": [
    "import pandas as pd"
   ]
  },
  {
   "cell_type": "code",
   "execution_count": 2,
   "id": "f4699492",
   "metadata": {},
   "outputs": [],
   "source": [
    "##open the file containing the dataset resulting from the scraping\n",
    "Inscriptions = pd.read_csv(\"/Users/u0154817/OneDrive - KU Leuven/Documents/ICLL Prague June 2023/Output/Tituli_Sepulcrales.csv\")"
   ]
  },
  {
   "cell_type": "code",
   "execution_count": 3,
   "id": "78080d0b",
   "metadata": {
    "scrolled": true
   },
   "outputs": [
    {
     "data": {
      "text/plain": [
       "184097"
      ]
     },
     "execution_count": 3,
     "metadata": {},
     "output_type": "execute_result"
    }
   ],
   "source": [
    "##calculate the lenght of the dataset\n",
    "Len_from_LatEpig = len(Inscriptions)\n",
    "Len_from_LatEpig"
   ]
  },
  {
   "cell_type": "code",
   "execution_count": 4,
   "id": "7d9eb99b",
   "metadata": {},
   "outputs": [
    {
     "name": "stdout",
     "output_type": "stream",
     "text": [
      "419\n"
     ]
    }
   ],
   "source": [
    "##count the number of times the same EDCS-ID appears twice in the dataset\n",
    "Value_Counts = Inscriptions['EDCS-ID'].value_counts()\n",
    "Count_Twice = Value_Counts[Value_Counts == 2].count()\n",
    "print(Count_Twice)"
   ]
  },
  {
   "cell_type": "code",
   "execution_count": 5,
   "id": "087344a7",
   "metadata": {},
   "outputs": [
    {
     "name": "stdout",
     "output_type": "stream",
     "text": [
      "All rows with the same EDCS-ID have the same value under 'inscription': False\n"
     ]
    }
   ],
   "source": [
    "## check if rows with the same EDCS-ID also have the same value under the column \"inscription\"\n",
    "grouped = Inscriptions.groupby('EDCS-ID')['inscription'].nunique() ##group the rows by 'EDCS-ID' and count unique values in the 'inscription' column\n",
    "all_same_inscription = (grouped == 1).all() ##check if all groups have a count of 1\n",
    "print(\"All rows with the same EDCS-ID have the same value under 'inscription':\", all_same_inscription)"
   ]
  },
  {
   "cell_type": "code",
   "execution_count": 6,
   "id": "d4e83598",
   "metadata": {},
   "outputs": [],
   "source": [
    "##drop the duplicates\n",
    "Inscriptions.drop_duplicates(subset='EDCS-ID', inplace=True)\n",
    "Inscriptions.reset_index(drop=True, inplace=True)"
   ]
  },
  {
   "cell_type": "code",
   "execution_count": 7,
   "id": "a8022adc",
   "metadata": {},
   "outputs": [],
   "source": [
    "No_Duplicate_Len = len(Inscriptions)"
   ]
  },
  {
   "cell_type": "code",
   "execution_count": 8,
   "id": "2869b699",
   "metadata": {},
   "outputs": [
    {
     "data": {
      "text/plain": [
       "True"
      ]
     },
     "execution_count": 8,
     "metadata": {},
     "output_type": "execute_result"
    }
   ],
   "source": [
    "##check the number of rows removed\n",
    "No_Duplicate_Len == Len_from_LatEpig - Count_Twice"
   ]
  },
  {
   "cell_type": "code",
   "execution_count": 9,
   "id": "04ac46f2",
   "metadata": {},
   "outputs": [
    {
     "data": {
      "text/plain": [
       "385"
      ]
     },
     "execution_count": 9,
     "metadata": {},
     "output_type": "execute_result"
    }
   ],
   "source": [
    "##count the number of rows that do not contain a text\n",
    "NaN_count = Inscriptions['inscription'].isna().sum()\n",
    "NaN_count"
   ]
  },
  {
   "cell_type": "code",
   "execution_count": 10,
   "id": "a66dfdc4",
   "metadata": {},
   "outputs": [],
   "source": [
    "##drop rows with NaN values in 'inscription' column\n",
    "Inscriptions = Inscriptions.dropna(subset=['inscription'])"
   ]
  },
  {
   "cell_type": "code",
   "execution_count": 11,
   "id": "37c10be2",
   "metadata": {},
   "outputs": [],
   "source": [
    "No_NaN_len = len(Inscriptions)"
   ]
  },
  {
   "cell_type": "code",
   "execution_count": 12,
   "id": "875d69bd",
   "metadata": {},
   "outputs": [
    {
     "data": {
      "text/plain": [
       "True"
      ]
     },
     "execution_count": 12,
     "metadata": {},
     "output_type": "execute_result"
    }
   ],
   "source": [
    "##check the number of rows removed\n",
    "No_NaN_len == No_Duplicate_Len - NaN_count"
   ]
  },
  {
   "cell_type": "code",
   "execution_count": 13,
   "id": "d8dbfa53",
   "metadata": {},
   "outputs": [
    {
     "data": {
      "text/plain": [
       "?                           4660\n",
       "D(is) M(anibus)              208\n",
       "D(is) M(anibus) / [          200\n",
       "[D(is)] M(anibus) / [         74\n",
       "D(is) M(anibus) s(acrum)      68\n",
       "Name: inscription, dtype: int64"
      ]
     },
     "execution_count": 13,
     "metadata": {},
     "output_type": "execute_result"
    }
   ],
   "source": [
    "##inspect the inscription column\n",
    "Inscriptions['inscription'].value_counts().head(5)"
   ]
  },
  {
   "cell_type": "code",
   "execution_count": 14,
   "id": "96e1f7a9",
   "metadata": {},
   "outputs": [],
   "source": [
    "##drop rows with '?' value in 'inscription' column\n",
    "Inscriptions = Inscriptions[Inscriptions['inscription'] != '?']"
   ]
  },
  {
   "cell_type": "code",
   "execution_count": 15,
   "id": "bc3739bf",
   "metadata": {},
   "outputs": [],
   "source": [
    "No_QuestionMark_len = len(Inscriptions)"
   ]
  },
  {
   "cell_type": "code",
   "execution_count": 16,
   "id": "04c979ed",
   "metadata": {},
   "outputs": [
    {
     "data": {
      "text/plain": [
       "True"
      ]
     },
     "execution_count": 16,
     "metadata": {},
     "output_type": "execute_result"
    }
   ],
   "source": [
    "##check the number of rows removed\n",
    "No_QuestionMark_len == No_NaN_len - 4660"
   ]
  },
  {
   "cell_type": "code",
   "execution_count": 17,
   "id": "5208a866",
   "metadata": {
    "scrolled": true
   },
   "outputs": [
    {
     "data": {
      "text/plain": [
       "117"
      ]
     },
     "execution_count": 17,
     "metadata": {},
     "output_type": "execute_result"
    }
   ],
   "source": [
    "##count rows where length of 'inscription' is lower than 4\n",
    "Smaller_than_Three = Inscriptions[Inscriptions['inscription'].str.len() < 3]\n",
    "len(Smaller_than_Three)"
   ]
  },
  {
   "cell_type": "code",
   "execution_count": 18,
   "id": "ddab92d8",
   "metadata": {},
   "outputs": [],
   "source": [
    "##filter out rows where length of 'inscription' is lower than 4\n",
    "Inscriptions = Inscriptions[~(Inscriptions['inscription'].str.len() < 3)]"
   ]
  },
  {
   "cell_type": "code",
   "execution_count": 19,
   "id": "35720c1d",
   "metadata": {},
   "outputs": [],
   "source": [
    "No_less_than_three = len(Inscriptions)"
   ]
  },
  {
   "cell_type": "code",
   "execution_count": 20,
   "id": "28ff80d1",
   "metadata": {},
   "outputs": [
    {
     "data": {
      "text/plain": [
       "True"
      ]
     },
     "execution_count": 20,
     "metadata": {},
     "output_type": "execute_result"
    }
   ],
   "source": [
    "##check the number of rows removed\n",
    "No_less_than_three == No_QuestionMark_len - len(Smaller_than_Three)"
   ]
  },
  {
   "cell_type": "code",
   "execution_count": 21,
   "id": "7ef6e5fa",
   "metadata": {},
   "outputs": [
    {
     "data": {
      "text/plain": [
       "178516"
      ]
     },
     "execution_count": 21,
     "metadata": {},
     "output_type": "execute_result"
    }
   ],
   "source": [
    "No_less_than_three"
   ]
  },
  {
   "cell_type": "code",
   "execution_count": 22,
   "id": "0ed18bb7",
   "metadata": {},
   "outputs": [
    {
     "data": {
      "text/plain": [
       "5581"
      ]
     },
     "execution_count": 22,
     "metadata": {},
     "output_type": "execute_result"
    }
   ],
   "source": [
    "##tot number of rows removed in the cleaning\n",
    "Len_from_LatEpig - No_less_than_three"
   ]
  },
  {
   "cell_type": "code",
   "execution_count": 23,
   "id": "5c8421e6",
   "metadata": {},
   "outputs": [],
   "source": [
    "Inscriptions.to_csv('Tituli_Sepulcrales_new.csv', index=False)"
   ]
  }
 ],
 "metadata": {
  "kernelspec": {
   "display_name": "Python 3 (ipykernel)",
   "language": "python",
   "name": "python3"
  },
  "language_info": {
   "codemirror_mode": {
    "name": "ipython",
    "version": 3
   },
   "file_extension": ".py",
   "mimetype": "text/x-python",
   "name": "python",
   "nbconvert_exporter": "python",
   "pygments_lexer": "ipython3",
   "version": "3.9.13"
  }
 },
 "nbformat": 4,
 "nbformat_minor": 5
}
