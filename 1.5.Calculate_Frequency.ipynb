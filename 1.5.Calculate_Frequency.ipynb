{
 "cells": [
  {
   "cell_type": "markdown",
   "id": "b40aa1a3",
   "metadata": {},
   "source": [
    "# Calculation of the Frequency of the Words in the Corpus"
   ]
  },
  {
   "cell_type": "markdown",
   "id": "7b08f039",
   "metadata": {},
   "source": [
    "Raw frequency, % relative frequency, relative frequency per million were calculated for words in the **interpretive texts**. Consider that the interpretive text contains the integrations and abbreviation resolutions by modern editors. \n",
    "\n",
    "A CSV file was generated containing the counting of the frequency of each word sorted in descending order.\n",
    "\n",
    "Using a word-level analysis and the interpretive texts permitted to compare the results with other corpora.\n",
    "\n",
    "Calculating the frequency on the 'inscription' column permits to measure how many times the formula 'Manibus' is written for long or it is abbreviated (NEXT STEP)."
   ]
  },
  {
   "cell_type": "code",
   "execution_count": 1,
   "id": "05f41c6f",
   "metadata": {},
   "outputs": [],
   "source": [
    "import pandas as pd\n",
    "from collections import Counter\n",
    "from nltk.tokenize import sent_tokenize, word_tokenize\n",
    "import matplotlib.pyplot as plt"
   ]
  },
  {
   "cell_type": "code",
   "execution_count": 2,
   "id": "99a02837",
   "metadata": {},
   "outputs": [],
   "source": [
    "##open the dataset of funerary inscriptions (172,958 rows)\n",
    "Inscriptions = pd.read_csv(\"/Users/u0154817/OneDrive - KU Leuven/Documents/ICLL Prague June 2023/Output/Tituli_Sepulcrales_new.csv\")"
   ]
  },
  {
   "cell_type": "code",
   "execution_count": 3,
   "id": "5237fd50",
   "metadata": {},
   "outputs": [
    {
     "data": {
      "text/plain": [
       "172958"
      ]
     },
     "execution_count": 3,
     "metadata": {},
     "output_type": "execute_result"
    }
   ],
   "source": [
    "len(Inscriptions)"
   ]
  },
  {
   "cell_type": "code",
   "execution_count": 4,
   "id": "7f85ef37",
   "metadata": {},
   "outputs": [],
   "source": [
    "##create a list of all the tokens in the interpretive texts\n",
    "list_of_words = []\n",
    "\n",
    "for i,inscription in enumerate(Inscriptions['inscription_interpretive_cleaning']):\n",
    "    inscription = str(inscription)\n",
    "    tokenized_inscription = word_tokenize(inscription) ##tokenize the inscription with NLTK\n",
    "    for word in tokenized_inscription:\n",
    "        word = word.lower() ##lower the word\n",
    "        list_of_words.append(word)"
   ]
  },
  {
   "cell_type": "code",
   "execution_count": 5,
   "id": "8f87bf96",
   "metadata": {},
   "outputs": [
    {
     "data": {
      "text/plain": [
       "2007668"
      ]
     },
     "execution_count": 5,
     "metadata": {},
     "output_type": "execute_result"
    }
   ],
   "source": [
    "##word count in the interpretive texts (2,007,668)\n",
    "len(list_of_words)"
   ]
  },
  {
   "cell_type": "code",
   "execution_count": 6,
   "id": "92adbed9",
   "metadata": {},
   "outputs": [
    {
     "data": {
      "text/plain": [
       "115697"
      ]
     },
     "execution_count": 6,
     "metadata": {},
     "output_type": "execute_result"
    }
   ],
   "source": [
    "counter_words = Counter(list_of_words) ##calculate raw frequency\n",
    "\n",
    "##number of unique words in interpretive texts (115,697)\n",
    "len(counter_words)"
   ]
  },
  {
   "cell_type": "code",
   "execution_count": 7,
   "id": "fc56aed8",
   "metadata": {},
   "outputs": [],
   "source": [
    "##get the 20 most frequent words in interpretive texts\n",
    "most_frequent_words = counter_words.most_common(20)"
   ]
  },
  {
   "cell_type": "code",
   "execution_count": 8,
   "id": "67b58737",
   "metadata": {},
   "outputs": [
    {
     "data": {
      "text/plain": [
       "[('vixit', 67831),\n",
       " ('manibus', 65975),\n",
       " ('dis', 65783),\n",
       " ('et', 55056),\n",
       " ('annos', 50095),\n",
       " ('in', 31591),\n",
       " ('hic', 27439),\n",
       " ('fecit', 26399),\n",
       " ('bene', 22934),\n",
       " ('est', 22740),\n",
       " ('sacrum', 21157),\n",
       " ('merenti', 20592),\n",
       " ('annis', 18841),\n",
       " ('coniugi', 15627),\n",
       " ('pace', 14512),\n",
       " ('situs', 13814),\n",
       " ('sibi', 13478),\n",
       " ('filio', 12973),\n",
       " ('qui', 12803),\n",
       " ('que', 12294)]"
      ]
     },
     "execution_count": 8,
     "metadata": {},
     "output_type": "execute_result"
    }
   ],
   "source": [
    "##most frequent words ranked in terms of raw frequency\n",
    "most_frequent_words"
   ]
  },
  {
   "cell_type": "code",
   "execution_count": 9,
   "id": "e0758a04",
   "metadata": {
    "scrolled": true
   },
   "outputs": [],
   "source": [
    "##raw frequency descending order\n",
    "raw_frequencies = counter_words.most_common(115697)\n",
    "frequencies = pd.DataFrame(raw_frequencies, columns=['word', 'raw_frequency'])"
   ]
  },
  {
   "cell_type": "code",
   "execution_count": 10,
   "id": "4527a08e",
   "metadata": {},
   "outputs": [
    {
     "data": {
      "text/html": [
       "<div>\n",
       "<style scoped>\n",
       "    .dataframe tbody tr th:only-of-type {\n",
       "        vertical-align: middle;\n",
       "    }\n",
       "\n",
       "    .dataframe tbody tr th {\n",
       "        vertical-align: top;\n",
       "    }\n",
       "\n",
       "    .dataframe thead th {\n",
       "        text-align: right;\n",
       "    }\n",
       "</style>\n",
       "<table border=\"1\" class=\"dataframe\">\n",
       "  <thead>\n",
       "    <tr style=\"text-align: right;\">\n",
       "      <th></th>\n",
       "      <th>word</th>\n",
       "      <th>raw_frequency</th>\n",
       "      <th>relative_frequency</th>\n",
       "      <th>percent_relative_frequency</th>\n",
       "      <th>relat_frequency_per_million</th>\n",
       "    </tr>\n",
       "  </thead>\n",
       "  <tbody>\n",
       "    <tr>\n",
       "      <th>0</th>\n",
       "      <td>vixit</td>\n",
       "      <td>67831</td>\n",
       "      <td>0.033786</td>\n",
       "      <td>3.378596</td>\n",
       "      <td>33785.964612</td>\n",
       "    </tr>\n",
       "    <tr>\n",
       "      <th>1</th>\n",
       "      <td>manibus</td>\n",
       "      <td>65975</td>\n",
       "      <td>0.032862</td>\n",
       "      <td>3.286151</td>\n",
       "      <td>32861.508975</td>\n",
       "    </tr>\n",
       "    <tr>\n",
       "      <th>2</th>\n",
       "      <td>dis</td>\n",
       "      <td>65783</td>\n",
       "      <td>0.032766</td>\n",
       "      <td>3.276588</td>\n",
       "      <td>32765.875633</td>\n",
       "    </tr>\n",
       "    <tr>\n",
       "      <th>3</th>\n",
       "      <td>et</td>\n",
       "      <td>55056</td>\n",
       "      <td>0.027423</td>\n",
       "      <td>2.742286</td>\n",
       "      <td>27422.860752</td>\n",
       "    </tr>\n",
       "    <tr>\n",
       "      <th>4</th>\n",
       "      <td>annos</td>\n",
       "      <td>50095</td>\n",
       "      <td>0.024952</td>\n",
       "      <td>2.495183</td>\n",
       "      <td>24951.834666</td>\n",
       "    </tr>\n",
       "    <tr>\n",
       "      <th>5</th>\n",
       "      <td>in</td>\n",
       "      <td>31591</td>\n",
       "      <td>0.015735</td>\n",
       "      <td>1.573517</td>\n",
       "      <td>15735.171353</td>\n",
       "    </tr>\n",
       "    <tr>\n",
       "      <th>6</th>\n",
       "      <td>hic</td>\n",
       "      <td>27439</td>\n",
       "      <td>0.013667</td>\n",
       "      <td>1.366710</td>\n",
       "      <td>13667.100337</td>\n",
       "    </tr>\n",
       "    <tr>\n",
       "      <th>7</th>\n",
       "      <td>fecit</td>\n",
       "      <td>26399</td>\n",
       "      <td>0.013149</td>\n",
       "      <td>1.314909</td>\n",
       "      <td>13149.086403</td>\n",
       "    </tr>\n",
       "    <tr>\n",
       "      <th>8</th>\n",
       "      <td>bene</td>\n",
       "      <td>22934</td>\n",
       "      <td>0.011423</td>\n",
       "      <td>1.142320</td>\n",
       "      <td>11423.203438</td>\n",
       "    </tr>\n",
       "    <tr>\n",
       "      <th>9</th>\n",
       "      <td>est</td>\n",
       "      <td>22740</td>\n",
       "      <td>0.011327</td>\n",
       "      <td>1.132657</td>\n",
       "      <td>11326.573916</td>\n",
       "    </tr>\n",
       "  </tbody>\n",
       "</table>\n",
       "</div>"
      ],
      "text/plain": [
       "      word  raw_frequency  relative_frequency  percent_relative_frequency  \\\n",
       "0    vixit          67831            0.033786                    3.378596   \n",
       "1  manibus          65975            0.032862                    3.286151   \n",
       "2      dis          65783            0.032766                    3.276588   \n",
       "3       et          55056            0.027423                    2.742286   \n",
       "4    annos          50095            0.024952                    2.495183   \n",
       "5       in          31591            0.015735                    1.573517   \n",
       "6      hic          27439            0.013667                    1.366710   \n",
       "7    fecit          26399            0.013149                    1.314909   \n",
       "8     bene          22934            0.011423                    1.142320   \n",
       "9      est          22740            0.011327                    1.132657   \n",
       "\n",
       "   relat_frequency_per_million  \n",
       "0                 33785.964612  \n",
       "1                 32861.508975  \n",
       "2                 32765.875633  \n",
       "3                 27422.860752  \n",
       "4                 24951.834666  \n",
       "5                 15735.171353  \n",
       "6                 13667.100337  \n",
       "7                 13149.086403  \n",
       "8                 11423.203438  \n",
       "9                 11326.573916  "
      ]
     },
     "execution_count": 10,
     "metadata": {},
     "output_type": "execute_result"
    }
   ],
   "source": [
    "##calculate the relative frequency of the words\n",
    "\n",
    "relative_frequencies = []\n",
    "percent_relative_frequencies = []\n",
    "relat_frequencies_per_million = []\n",
    "\n",
    "for i,raw_frequency in enumerate(frequencies['raw_frequency']):\n",
    "    relative_frequency = (raw_frequency / len(list_of_words))\n",
    "    relative_frequencies.append(relative_frequency)\n",
    "    perc_relative_frequency = relative_frequency * 100\n",
    "    percent_relative_frequencies.append(perc_relative_frequency)\n",
    "    relat_frequency_per_million = relative_frequency * 1000000\n",
    "    relat_frequencies_per_million.append(relat_frequency_per_million)\n",
    "    \n",
    "frequencies['relative_frequency'] = relative_frequencies\n",
    "frequencies['percent_relative_frequency'] = percent_relative_frequencies\n",
    "frequencies['relat_frequency_per_million'] = relat_frequencies_per_million\n",
    "frequencies.head(10)"
   ]
  },
  {
   "cell_type": "code",
   "execution_count": null,
   "id": "c33c4302",
   "metadata": {},
   "outputs": [],
   "source": [
    "frequencies.to_csv('1.5.Frequency_Count.csv', index=False)"
   ]
  },
  {
   "cell_type": "code",
   "execution_count": 11,
   "id": "075c6d90",
   "metadata": {
    "scrolled": false
   },
   "outputs": [
    {
     "data": {
      "image/png": "[encoded data removed]",
      "text/plain": [
       "<Figure size 1100x600 with 1 Axes>"
      ]
     },
     "metadata": {},
     "output_type": "display_data"
    }
   ],
   "source": [
    "##create a plot\n",
    "subset = frequencies.head(100)\n",
    "\n",
    "plt.figure(figsize=(11, 6))\n",
    "plt.plot(subset['word'], subset['relative_frequency'], marker='.', linestyle='-')\n",
    "plt.ylabel('relative_frequency')\n",
    "plt.xlabel('100 most frequent tokens')\n",
    "plt.xticks(rotation=90, fontsize=7)\n",
    "\n",
    "plt.show()"
   ]
  }
 ],
 "metadata": {
  "kernelspec": {
   "display_name": "Python 3 (ipykernel)",
   "language": "python",
   "name": "python3"
  },
  "language_info": {
   "codemirror_mode": {
    "name": "ipython",
    "version": 3
   },
   "file_extension": ".py",
   "mimetype": "text/x-python",
   "name": "python",
   "nbconvert_exporter": "python",
   "pygments_lexer": "ipython3",
   "version": "3.9.13"
  }
 },
 "nbformat": 4,
 "nbformat_minor": 5
}
