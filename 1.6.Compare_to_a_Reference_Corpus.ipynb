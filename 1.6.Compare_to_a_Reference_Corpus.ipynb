{
 "cells": [
  {
   "cell_type": "markdown",
   "id": "2bcd2a2e",
   "metadata": {},
   "source": [
    "# Evaluation of the Frequency against a Reference Corpus (Whole Corpus)"
   ]
  },
  {
   "cell_type": "markdown",
   "id": "bcfb8d8d",
   "metadata": {},
   "source": [
    "To evaluate the frequency counts from the previous step, a reference corpus was constructed to compare the values. The reference corpus contains lemmatized and tokenized Latin classical texts from the LASLA corpus (LINK).\n",
    "\n",
    "For instance, the relative frequency of 'annos' in the reference corpus is 0.02%. By contrast, the relative frequency of 'annos' in the inscriptions is 2.4%, which indicates its importance. The frequency of the function words 'et', 'in', and 'est' in the inscriptions is similar to that in the reference corpus.\n",
    "\n",
    "Finally, the z-score and the chi-square statistical procedure were applied to quantify the difference between the observed frequency and the expected frequency and measure whether these differences are statistically signiticant."
   ]
  },
  {
   "cell_type": "code",
   "execution_count": 1,
   "id": "61c741c3",
   "metadata": {},
   "outputs": [],
   "source": [
    "import pandas as pd \n",
    "import os \n",
    "import re \n",
    "from io import open\n",
    "from conllu import parse\n",
    "from nltk.tokenize import sent_tokenize, word_tokenize\n",
    "import pickle\n",
    "import matplotlib.pyplot as plt\n",
    "import collections\n",
    "from collections import Counter\n",
    "from nltk.util import ngrams\n",
    "from scipy.stats import chi2_contingency\n",
    "from statsmodels.stats.proportion import proportions_ztest\n",
    "from statsmodels.stats.proportion import proportions_chisquare\n",
    "import numpy as np"
   ]
  },
  {
   "cell_type": "code",
   "execution_count": 2,
   "id": "03f00f27",
   "metadata": {},
   "outputs": [],
   "source": [
    "##open the dataset of funerary inscriptions (172,958 rows)\n",
    "Inscriptions = pd.read_csv(\"/Users/u0154817/OneDrive - KU Leuven/Documents/ICLL Prague June 2023/Output/Tituli_Sepulcrales_new.csv\")"
   ]
  },
  {
   "cell_type": "code",
   "execution_count": 3,
   "id": "f277a107",
   "metadata": {},
   "outputs": [
    {
     "data": {
      "text/plain": [
       "172958"
      ]
     },
     "execution_count": 3,
     "metadata": {},
     "output_type": "execute_result"
    }
   ],
   "source": [
    "len(Inscriptions)"
   ]
  },
  {
   "cell_type": "code",
   "execution_count": 4,
   "id": "792f9731",
   "metadata": {},
   "outputs": [],
   "source": [
    "##create a list of all the tokens in the interpretive texts\n",
    "inscriptions_words = []\n",
    "\n",
    "for i,inscription in enumerate(Inscriptions['inscription_interpretive_cleaning']):\n",
    "    inscription = str(inscription)\n",
    "    tokenized_inscription = word_tokenize(inscription) ##tokenize the inscription with NLTK\n",
    "    for word in tokenized_inscription:\n",
    "        word = word.lower() ##lower the word\n",
    "        word = re.sub(r'v', 'u', word) ##we observed that in the LASLA corpus 'vixit' is written 'uixit'\n",
    "        inscriptions_words.append(word)"
   ]
  },
  {
   "cell_type": "code",
   "execution_count": 5,
   "id": "8332d3b5",
   "metadata": {},
   "outputs": [
    {
     "data": {
      "text/plain": [
       "2007668"
      ]
     },
     "execution_count": 5,
     "metadata": {},
     "output_type": "execute_result"
    }
   ],
   "source": [
    "##token size of the inscriptions (2,007,668)\n",
    "len(inscriptions_words)"
   ]
  },
  {
   "cell_type": "code",
   "execution_count": 6,
   "id": "380d6d07",
   "metadata": {},
   "outputs": [],
   "source": [
    "counter_inscriptions = Counter(inscriptions_words) ##calculate raw frequency\n",
    "ten_most_common = counter_inscriptions.most_common(10) ##10 most frequent words"
   ]
  },
  {
   "cell_type": "code",
   "execution_count": 7,
   "id": "3eac33a3",
   "metadata": {},
   "outputs": [
    {
     "data": {
      "text/plain": [
       "[('uixit', 67834),\n",
       " ('manibus', 65975),\n",
       " ('dis', 65783),\n",
       " ('et', 55056),\n",
       " ('annos', 50095),\n",
       " ('in', 31591),\n",
       " ('hic', 27439),\n",
       " ('fecit', 26399),\n",
       " ('bene', 22934),\n",
       " ('est', 22740)]"
      ]
     },
     "execution_count": 7,
     "metadata": {},
     "output_type": "execute_result"
    }
   ],
   "source": [
    "ten_most_common"
   ]
  },
  {
   "cell_type": "code",
   "execution_count": 8,
   "id": "4c5ee6a0",
   "metadata": {},
   "outputs": [],
   "source": [
    "##open the file containing the LASLA tokenized sentences\n",
    "file = open(r'\\Users\\u0154817\\OneDrive - KU Leuven\\Documents\\ICLL Prague June 2023\\Sources\\lasla_tokenized_text', \"rb\")\n",
    "tok_sent=pickle.load(file)\n",
    "file.close()"
   ]
  },
  {
   "cell_type": "code",
   "execution_count": 9,
   "id": "a64153e8",
   "metadata": {},
   "outputs": [
    {
     "data": {
      "text/plain": [
       "95747"
      ]
     },
     "execution_count": 9,
     "metadata": {},
     "output_type": "execute_result"
    }
   ],
   "source": [
    "##number of sentences tokenized (95,747)\n",
    "len(tok_sent)"
   ]
  },
  {
   "cell_type": "code",
   "execution_count": 10,
   "id": "358f63db",
   "metadata": {},
   "outputs": [],
   "source": [
    "##create a bag of words for the LASLA tokenized sentences\n",
    "LASLA_words = []\n",
    "for sentence in tok_sent:\n",
    "    for token in sentence:\n",
    "        LASLA_words.append(token)"
   ]
  },
  {
   "cell_type": "code",
   "execution_count": 11,
   "id": "603a6990",
   "metadata": {},
   "outputs": [
    {
     "data": {
      "text/plain": [
       "1809855"
      ]
     },
     "execution_count": 11,
     "metadata": {},
     "output_type": "execute_result"
    }
   ],
   "source": [
    "##token size of the LASLA corpus (1,809,855)\n",
    "len(LASLA_words)"
   ]
  },
  {
   "cell_type": "code",
   "execution_count": 12,
   "id": "6f2af4a3",
   "metadata": {
    "scrolled": true
   },
   "outputs": [
    {
     "data": {
      "text/plain": [
       "[('et', 45884),\n",
       " ('in', 31742),\n",
       " ('que', 30197),\n",
       " ('non', 22530),\n",
       " ('est', 21309),\n",
       " ('cum', 15633),\n",
       " ('ut', 15288),\n",
       " ('ad', 12485),\n",
       " ('quod', 11904),\n",
       " ('qui', 11648)]"
      ]
     },
     "execution_count": 12,
     "metadata": {},
     "output_type": "execute_result"
    }
   ],
   "source": [
    "counter_LASLA = Counter(LASLA_words) ##calculate raw frequency\n",
    "counter_LASLA.most_common(10) ##10 most frequent words in LASLA"
   ]
  },
  {
   "cell_type": "code",
   "execution_count": 13,
   "id": "bdfc4c63",
   "metadata": {},
   "outputs": [
    {
     "data": {
      "text/plain": [
       "123461"
      ]
     },
     "execution_count": 13,
     "metadata": {},
     "output_type": "execute_result"
    }
   ],
   "source": [
    "##number of unique words in LASLA texts (123,461)\n",
    "len(counter_LASLA)"
   ]
  },
  {
   "cell_type": "code",
   "execution_count": 14,
   "id": "d7b87aca",
   "metadata": {},
   "outputs": [
    {
     "name": "stdout",
     "output_type": "stream",
     "text": [
      "uixit 0.0032046766177400952\n",
      "manibus 0.023537797226849663\n",
      "dis 0.016962684855969124\n",
      "et 2.535230722903216\n",
      "annos 0.022874760685248265\n",
      "in 1.7538421586259672\n",
      "hic 0.13945868591682758\n",
      "fecit 0.03282030880926925\n",
      "bene 0.05591608167505132\n",
      "est 1.1773871387486843\n"
     ]
    }
   ],
   "source": [
    "##calculate the relative frequency in the LASLA corpus of the 10 most frequent words in inscriptions\n",
    "for i in ten_most_common:\n",
    "    word = i[0]\n",
    "    raw_frequnecy = counter_LASLA[word]\n",
    "    perc_relative_frequency = raw_frequnecy / len(LASLA_words) * 100\n",
    "    print(word, perc_relative_frequency)"
   ]
  },
  {
   "cell_type": "code",
   "execution_count": 15,
   "id": "3c1d09df",
   "metadata": {},
   "outputs": [],
   "source": [
    "def calculate_z_score(item, corpus_counter, reference_counter): \n",
    "    count=np.array([corpus_counter[item], reference_counter[item]]) ##frequency of the word in the corpus_counter and in the reference_corpus_counter\n",
    "    n=np.array([2007668, 1809855]) ##size of the corpora of tokens\n",
    "    return proportions_ztest(count, n)"
   ]
  },
  {
   "cell_type": "code",
   "execution_count": 16,
   "id": "6f38549f",
   "metadata": {},
   "outputs": [],
   "source": [
    "def calculate_chi_square(item, corpus_counter, reference_counter): \n",
    "    count=np.array([corpus_counter[item], reference_counter[item]])\n",
    "    print(count)\n",
    "    n=np.array([2007668, 1809855]) ##size of the corpora of tokens\n",
    "    return proportions_chisquare(count, n)"
   ]
  },
  {
   "cell_type": "code",
   "execution_count": 17,
   "id": "856fbdad",
   "metadata": {},
   "outputs": [
    {
     "name": "stdout",
     "output_type": "stream",
     "text": [
      "('uixit', 67834)\n",
      "249.1715870529962 0\n",
      "[67834    58]\n",
      "(62086.479794508814, 0.0, (array([[6.783400e+04, 1.939834e+06],\n",
      "       [5.800000e+01, 1.809797e+06]]), array([[  35704.98353409, 1971963.01646591],\n",
      "       [  32187.01646591, 1777667.98353409]])))\n",
      "[67834    58]\n",
      "significant\n",
      "('manibus', 65975)\n",
      "243.47610283102364 0\n",
      "[65975   426]\n",
      "(59280.612649783194, 0.0, (array([[6.597500e+04, 1.941693e+06],\n",
      "       [4.260000e+02, 1.809429e+06]]), array([[  34920.85388038, 1972747.14611962],\n",
      "       [  31480.14611962, 1778374.85388038]])))\n",
      "[65975   426]\n",
      "significant\n",
      "('dis', 65783)\n",
      "243.81466339169936 0\n",
      "[65783   307]\n",
      "(59445.59008480767, 0.0, (array([[6.578300e+04, 1.941885e+06],\n",
      "       [3.070000e+02, 1.809548e+06]]), array([[  34757.29632015, 1972910.70367985],\n",
      "       [  31332.70367985, 1778522.29632015]])))\n",
      "[65783   307]\n",
      "significant\n",
      "('et', 55056)\n",
      "12.590459014535217 2.38e-36\n",
      "[55056 45884]\n",
      "(158.51965819669073, 2.3828368925497687e-36, (array([[  55056., 1952612.],\n",
      "       [  45884., 1763971.]]), array([[  53085.20941983, 1954582.79058017],\n",
      "       [  47854.79058017, 1762000.20941983]])))\n",
      "[55056 45884]\n",
      "significant\n",
      "('annos', 50095)\n",
      "211.09520402795906 0\n",
      "[50095   414]\n",
      "(44561.18516360565, 0.0, (array([[5.009500e+04, 1.957573e+06],\n",
      "       [4.140000e+02, 1.809441e+06]]), array([[  26563.11514351, 1981104.88485649],\n",
      "       [  23945.88485649, 1785909.11514351]])))\n",
      "[50095   414]\n",
      "significant\n",
      "('in', 31591)\n",
      "-13.773411190574391 3.68e-43\n",
      "[31591 31742]\n",
      "(189.7068558246399, 3.6839890993546494e-43, (array([[  31591., 1976077.],\n",
      "       [  31742., 1778113.]]), array([[  33307.36643735, 1974360.63356265],\n",
      "       [  30025.63356265, 1779829.36643735]])))\n",
      "[31591 31742]\n",
      "significant\n",
      "('hic', 27439)\n",
      "135.6812326512038 0\n",
      "[27439  2524]\n",
      "(18409.39689375009, 0.0, (array([[  27439., 1980229.],\n",
      "       [   2524., 1807331.]]), array([[  15757.79799729, 1991910.20200271],\n",
      "       [  14205.20200271, 1795649.79799729]])))\n",
      "[27439  2524]\n",
      "significant\n",
      "('fecit', 26399)\n",
      "149.27980933549918 0\n",
      "[26399   594]\n",
      "(22284.461475242984, 0.0, (array([[2.639900e+04, 1.981269e+06],\n",
      "       [5.940000e+02, 1.809261e+06]]), array([[  14195.84959252, 1993472.15040748],\n",
      "       [  12797.15040748, 1797057.84959252]])))\n",
      "[26399   594]\n",
      "significant\n",
      "('bene', 22934)\n",
      "134.24842226655636 0\n",
      "[22934  1012]\n",
      "(18022.63888105962, 0.0, (array([[2.293400e+04, 1.984734e+06],\n",
      "       [1.012000e+03, 1.808843e+06]]), array([[  12593.40622912, 1995074.59377088],\n",
      "       [  11352.59377088, 1798502.40622912]])))\n",
      "[22934  1012]\n",
      "significant\n",
      "('est', 22740)\n",
      "-4.086169768670409 4.39e-05\n",
      "[22740 21309]\n",
      "(16.696783378395946, 4.38552940761686e-05, (array([[  22740., 1984928.],\n",
      "       [  21309., 1788546.]]), array([[  23165.74588601, 1984502.25411399],\n",
      "       [  20883.25411399, 1788971.74588601]])))\n",
      "[22740 21309]\n",
      "significant\n"
     ]
    }
   ],
   "source": [
    "for i in  counter_inscriptions.most_common(10):\n",
    "    print(i)\n",
    "    a, b=calculate_z_score(i[0], counter_inscriptions, counter_LASLA) \n",
    "    print(a, f'{b:.3g}') ##z score, p score\n",
    "    print(calculate_chi_square(i[0], counter_inscriptions, counter_LASLA))\n",
    "    if calculate_chi_square(i[0], counter_inscriptions, counter_LASLA)[1]<0.05:\n",
    "        print('significant')"
   ]
  }
 ],
 "metadata": {
  "kernelspec": {
   "display_name": "Python 3 (ipykernel)",
   "language": "python",
   "name": "python3"
  },
  "language_info": {
   "codemirror_mode": {
    "name": "ipython",
    "version": 3
   },
   "file_extension": ".py",
   "mimetype": "text/x-python",
   "name": "python",
   "nbconvert_exporter": "python",
   "pygments_lexer": "ipython3",
   "version": "3.9.13"
  }
 },
 "nbformat": 4,
 "nbformat_minor": 5
}
