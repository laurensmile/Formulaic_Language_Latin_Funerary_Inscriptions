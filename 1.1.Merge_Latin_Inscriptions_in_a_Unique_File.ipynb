{
 "cells": [
  {
   "cell_type": "markdown",
   "id": "3b6af273",
   "metadata": {},
   "source": [
    "# Preparation of the Corpus of Latin Funerary Inscriptions"
   ]
  },
  {
   "cell_type": "markdown",
   "id": "7d97adb5",
   "metadata": {},
   "source": [
    "The corpus of Latin funerary inscriptions was generated using the Latin Epigraphy Scraper (LatEpig) v2.0 (https://github.com/mqAncientHistory/Lat-Epig), a tool that allows to query the inscriptions from the Epigraphic Database Clauss Slaby (www.manfredclauss.de) saving the search results in a TSV file. For the documentation and a description of the EDCS see: https://doi.org/10.1515/jdh-2021-1004. For a discussion on the database and some limitations see also: https://dhh.uni.lu/2020/07/10/working-with-databases-the-case-of-the-epigraphik-datenbank-clauss-slaby-edcs/.\n",
    "\n",
    "Each TSV file obtained by LatEpig contains the information from EDCS separated into 22 attributes. A full description of the metadata for the files produced by LatEpig see: https://github.com/mqAncientHistory/Lat-Epig/blob/main/LatEpig_Metadata_Description.txt. \n",
    "\n",
    "Note that the file name contains the date of the search, source of the data (EDCS) and the search parametres or their combinations used and the number of inscriptions found. LatEpig was run using online Jupyter Notebooks on myBinder.\n",
    "\n",
    "To scrape funerary inscriptions, the parameter 'Inscription Genus' was set to 'genus_titulisepulcrales' according to the custom categorisation of inscriptions applied by EDCS. Due to the high number of inscriptions, the download was split using the parameter 'provincia'. LatEpigr does not include also the parameter 'language'.\n",
    "\n",
    "The subsets were then merged into a unique CSV file containing 184,097 inscriptions."
   ]
  },
  {
   "cell_type": "code",
   "execution_count": 1,
   "id": "f38d934b",
   "metadata": {},
   "outputs": [],
   "source": [
    "import pandas as pd"
   ]
  },
  {
   "cell_type": "code",
   "execution_count": 2,
   "id": "6c017478",
   "metadata": {
    "scrolled": true
   },
   "outputs": [
    {
     "data": {
      "text/plain": [
       "17522"
      ]
     },
     "execution_count": 2,
     "metadata": {},
     "output_type": "execute_result"
    }
   ],
   "source": [
    "## open tsv file contaning inscriptions from Achaia, Aegyptus, Africa Proconsularis (date, tot inscr)\n",
    "Ac_Ae_Afpr = pd.read_csv(\"/Users/u0154817/OneDrive - KU Leuven/Documents/ICLL Prague June 2023/EDCS_Latin_Funerary_Inscriptions/2023-05-10-EDCS_via_Lat_Epig-prov_3(Ac,Ae,Afpr)+genus_titulisepulcrales-17522.tsv\", sep='\\t')\n",
    "len(Ac_Ae_Afpr)"
   ]
  },
  {
   "cell_type": "code",
   "execution_count": 3,
   "id": "1696eb6a",
   "metadata": {},
   "outputs": [
    {
     "data": {
      "text/plain": [
       "3525"
      ]
     },
     "execution_count": 3,
     "metadata": {},
     "output_type": "execute_result"
    }
   ],
   "source": [
    "## open tsv file contaning inscriptions from Alpes Cottiae, Alpes Graiae, Alpes Maritimae, Alpes Poeninae, Apulia et Calabria / Regio II (date, tot inscr)\n",
    "AlCo_AlGr_AlMa_AlPo_ApetCa = pd.read_csv(\"/Users/u0154817/OneDrive - KU Leuven/Documents/ICLL Prague June 2023/EDCS_Latin_Funerary_Inscriptions/2023-05-10-EDCS_via_Lat_Epig-prov_5(AlCo,AlGr,AlMa,AlPo,ApetCa)+genus_titulisepulcrales-3525.tsv\", sep='\\t')\n",
    "len(AlCo_AlGr_AlMa_AlPo_ApetCa)"
   ]
  },
  {
   "cell_type": "code",
   "execution_count": 4,
   "id": "9c1321b3",
   "metadata": {},
   "outputs": [
    {
     "data": {
      "text/plain": [
       "1053"
      ]
     },
     "execution_count": 4,
     "metadata": {},
     "output_type": "execute_result"
    }
   ],
   "source": [
    "## open tsv file contaning inscriptions from Aquitani(c)a, Arabia, Armenia (date, tot inscr)\n",
    "Aq_Ar_Ar = pd.read_csv(\"/Users/u0154817/OneDrive - KU Leuven/Documents/ICLL Prague June 2023/EDCS_Latin_Funerary_Inscriptions/2023-05-10-EDCS_via_Lat_Epig-prov_3(Aq,Ar,Ar)+genus_titulisepulcrales-1053.tsv\", sep='\\t')\n",
    "len(Aq_Ar_Ar)"
   ]
  },
  {
   "cell_type": "code",
   "execution_count": 5,
   "id": "1574dfcd",
   "metadata": {},
   "outputs": [
    {
     "data": {
      "text/plain": [
       "351"
      ]
     },
     "execution_count": 5,
     "metadata": {},
     "output_type": "execute_result"
    }
   ],
   "source": [
    "## open tsv file contaning inscriptions from Asia (date, tot inscr)\n",
    "Asia = pd.read_csv(\"/Users/u0154817/OneDrive - KU Leuven/Documents/ICLL Prague June 2023/EDCS_Latin_Funerary_Inscriptions/2023-05-10-EDCS_via_Lat_Epig-prov_Asia+genus_titulisepulcrales-351.tsv\", sep='\\t')\n",
    "len(Asia)"
   ]
  },
  {
   "cell_type": "code",
   "execution_count": 6,
   "id": "8b45101d",
   "metadata": {},
   "outputs": [
    {
     "data": {
      "text/plain": [
       "4782"
      ]
     },
     "execution_count": 6,
     "metadata": {},
     "output_type": "execute_result"
    }
   ],
   "source": [
    "## open tsv file contaning inscriptions from Baetica, Barbaricum, Belgica (date, tot inscr)\n",
    "Ba_Ba_Be = pd.read_csv(\"/Users/u0154817/OneDrive - KU Leuven/Documents/ICLL Prague June 2023/EDCS_Latin_Funerary_Inscriptions/2023-05-10-EDCS_via_Lat_Epig-prov_3(Ba,Ba,Be)+genus_titulisepulcrales-4782.tsv\", sep='\\t')\n",
    "len(Ba_Ba_Be)"
   ]
  },
  {
   "cell_type": "code",
   "execution_count": 7,
   "id": "a54f054f",
   "metadata": {},
   "outputs": [
    {
     "data": {
      "text/plain": [
       "1315"
      ]
     },
     "execution_count": 7,
     "metadata": {},
     "output_type": "execute_result"
    }
   ],
   "source": [
    "## open tsv file contaning inscriptions from Britannia, Bruttium et Lucania / Regio III (date, tot inscr)\n",
    "Brit_BrutetLuc = pd.read_csv(\"/Users/u0154817/OneDrive - KU Leuven/Documents/ICLL Prague June 2023/EDCS_Latin_Funerary_Inscriptions/2023-05-10-EDCS_via_Lat_Epig-prov_Britannia,BruttiumetLucaniaRegioIII+genus_titulisepulcrales-1315.tsv\", sep='\\t')\n",
    "len(Brit_BrutetLuc)"
   ]
  },
  {
   "cell_type": "code",
   "execution_count": 8,
   "id": "6aabef51",
   "metadata": {},
   "outputs": [
    {
     "data": {
      "text/plain": [
       "183"
      ]
     },
     "execution_count": 8,
     "metadata": {},
     "output_type": "execute_result"
    }
   ],
   "source": [
    "## open tsv file contaning inscriptions from Cappadocia, Cilicia, Corsica, Creta et Cyrenaica (date, tot inscr)\n",
    "Ca_Ci_Co_CretCy = pd.read_csv(\"/Users/u0154817/OneDrive - KU Leuven/Documents/ICLL Prague June 2023/EDCS_Latin_Funerary_Inscriptions/2023-05-10-EDCS_via_Lat_Epig-prov_4(Ca,Ci,Co,CretCy)+genus_titulisepulcrales-183.tsv\", sep='\\t')\n",
    "len(Ca_Ci_Co_CretCy)"
   ]
  },
  {
   "cell_type": "code",
   "execution_count": 9,
   "id": "7cec2239",
   "metadata": {},
   "outputs": [
    {
     "data": {
      "text/plain": [
       "13526"
      ]
     },
     "execution_count": 9,
     "metadata": {},
     "output_type": "execute_result"
    }
   ],
   "source": [
    "## open tsv file contaning inscriptions from Cyprus, Dacia, Dalmatia, Etruria / Regio VII, Galatia, Gallia Narbonensis (date, tot inscr)\n",
    "Cy_Da_Da_EtRe_Ga_GaNaa = pd.read_csv(\"/Users/u0154817/OneDrive - KU Leuven/Documents/ICLL Prague June 2023/EDCS_Latin_Funerary_Inscriptions/2023-05-10-EDCS_via_Lat_Epig-prov_6(Cy,Da,Da,EtRe,Ga,GaNa)+genus_titulisepulcrales-13526.tsv\", sep='\\t')\n",
    "len(Cy_Da_Da_EtRe_Ga_GaNaa)"
   ]
  },
  {
   "cell_type": "code",
   "execution_count": 10,
   "id": "e19e29b3",
   "metadata": {},
   "outputs": [
    {
     "data": {
      "text/plain": [
       "6801"
      ]
     },
     "execution_count": 10,
     "metadata": {},
     "output_type": "execute_result"
    }
   ],
   "source": [
    "## open tsv file contaning inscriptions from Germania inferior, Germania superior, Hispania citerior (date, tot inscr)\n",
    "Gein_Gesu_Hici = pd.read_csv(\"/Users/u0154817/OneDrive - KU Leuven/Documents/ICLL Prague June 2023/EDCS_Latin_Funerary_Inscriptions/2023-05-10-EDCS_via_Lat_Epig-prov_3(Gein,Gesu,Hici)+genus_titulisepulcrales-6801.tsv\", sep='\\t')\n",
    "len(Gein_Gesu_Hici)"
   ]
  },
  {
   "cell_type": "code",
   "execution_count": 11,
   "id": "8bb8d1a6",
   "metadata": {},
   "outputs": [
    {
     "data": {
      "text/plain": [
       "33"
      ]
     },
     "execution_count": 11,
     "metadata": {},
     "output_type": "execute_result"
    }
   ],
   "source": [
    "## open tsv file contaning inscriptions from Italia (date, tot inscr)\n",
    "Italia = pd.read_csv(\"/Users/u0154817/OneDrive - KU Leuven/Documents/ICLL Prague June 2023/EDCS_Latin_Funerary_Inscriptions/2023-05-10-EDCS_via_Lat_Epig-prov_Italia+genus_titulisepulcrales-33.tsv\", sep='\\t')\n",
    "len(Italia)"
   ]
  },
  {
   "cell_type": "code",
   "execution_count": 12,
   "id": "e1c25015",
   "metadata": {},
   "outputs": [
    {
     "data": {
      "text/plain": [
       "11378"
      ]
     },
     "execution_count": 12,
     "metadata": {},
     "output_type": "execute_result"
    }
   ],
   "source": [
    "## open tsv file contaning inscriptions from Latium et Campania Regio I (date, tot inscr)\n",
    "LatetCamp = pd.read_csv(\"/Users/u0154817/OneDrive - KU Leuven/Documents/ICLL Prague June 2023/EDCS_Latin_Funerary_Inscriptions/2023-05-10-EDCS_via_Lat_Epig-prov_LatiumetCampaniaRegioI+genus_titulisepulcrales-11378.tsv\", sep='\\t')\n",
    "len(LatetCamp)"
   ]
  },
  {
   "cell_type": "code",
   "execution_count": 13,
   "id": "fe25303b",
   "metadata": {},
   "outputs": [
    {
     "data": {
      "text/plain": [
       "5726"
      ]
     },
     "execution_count": 13,
     "metadata": {},
     "output_type": "execute_result"
    }
   ],
   "source": [
    "## open tsv file contaning inscriptions from Liguria / Regio IX, Lugdunensis, Lusitania (date, tot inscr)\n",
    "LiRe_Lu_Lu = pd.read_csv(\"/Users/u0154817/OneDrive - KU Leuven/Documents/ICLL Prague June 2023/EDCS_Latin_Funerary_Inscriptions/2023-05-10-EDCS_via_Lat_Epig-prov_3(LiRe,Lu,Lu)+genus_titulisepulcrales-5726.tsv\", sep='\\t')\n",
    "len(LiRe_Lu_Lu)"
   ]
  },
  {
   "cell_type": "code",
   "execution_count": 14,
   "id": "045251cb",
   "metadata": {},
   "outputs": [
    {
     "data": {
      "text/plain": [
       "4660"
      ]
     },
     "execution_count": 14,
     "metadata": {},
     "output_type": "execute_result"
    }
   ],
   "source": [
    "## open tsv file contaning inscriptions from Lycia et Pamphylia, Macedonia, Mauretania Caesariensis, Mauretania Tingitana, Mesopotamia (date, tot inscr)\n",
    "LyetPa_Ma_MaCa_MaTi_Me = pd.read_csv(\"/Users/u0154817/OneDrive - KU Leuven/Documents/ICLL Prague June 2023/EDCS_Latin_Funerary_Inscriptions/2023-05-10-EDCS_via_Lat_Epig-prov_5(LyetPa,Ma,MaCa,MaTi,Me)+genus_titulisepulcrales-4660.tsv\", sep='\\t')\n",
    "len(LyetPa_Ma_MaCa_MaTi_Me)"
   ]
  },
  {
   "cell_type": "code",
   "execution_count": 15,
   "id": "f28aed00",
   "metadata": {},
   "outputs": [
    {
     "data": {
      "text/plain": [
       "14755"
      ]
     },
     "execution_count": 15,
     "metadata": {},
     "output_type": "execute_result"
    }
   ],
   "source": [
    "## open tsv file contaning inscriptions from Moesia inferior, Moesia superior, Noricum, Numidia, Palaestina Tingitana, Mesopotamia (date, tot inscr)\n",
    "Moin_Mosu_No_Nu_Pa = pd.read_csv(\"/Users/u0154817/OneDrive - KU Leuven/Documents/ICLL Prague June 2023/EDCS_Latin_Funerary_Inscriptions/2023-05-10-EDCS_via_Lat_Epig-prov_5(Moin,Mosu,No,Nu,Pa)+genus_titulisepulcrales-14755.tsv\", sep='\\t')\n",
    "len(Moin_Mosu_No_Nu_Pa)"
   ]
  },
  {
   "cell_type": "code",
   "execution_count": 16,
   "id": "7017fac7",
   "metadata": {},
   "outputs": [
    {
     "data": {
      "text/plain": [
       "4680"
      ]
     },
     "execution_count": 16,
     "metadata": {},
     "output_type": "execute_result"
    }
   ],
   "source": [
    "## open tsv file contaning inscriptions from Pannonia inferior, Pannonia superior, Picenum / Regio V, Pontus et Bithynia, Provincia incerta, Raetia (date, tot inscr)\n",
    "Pain_Pasu_PiRe_PoetBi_Prin_Ra = pd.read_csv(\"/Users/u0154817/OneDrive - KU Leuven/Documents/ICLL Prague June 2023/EDCS_Latin_Funerary_Inscriptions/2023-05-10-EDCS_via_Lat_Epig-prov_6(Pain,Pasu,PiRe,PoetBi,Prin,Ra)+genus_titulisepulcrales-4680.tsv\", sep='\\t')\n",
    "len(Pain_Pasu_PiRe_PoetBi_Prin_Ra)"
   ]
  },
  {
   "cell_type": "code",
   "execution_count": 17,
   "id": "583a2533",
   "metadata": {},
   "outputs": [
    {
     "data": {
      "text/plain": [
       "69"
      ]
     },
     "execution_count": 17,
     "metadata": {},
     "output_type": "execute_result"
    }
   ],
   "source": [
    "## open tsv file contaning inscriptions from Regnum Bospori (date, tot inscr)\n",
    "RegnumBospori = pd.read_csv(\"/Users/u0154817/OneDrive - KU Leuven/Documents/ICLL Prague June 2023/EDCS_Latin_Funerary_Inscriptions/2023-05-10-EDCS_via_Lat_Epig-prov_RegnumBospori+genus_titulisepulcrales-69.tsv\", sep='\\t')\n",
    "len(RegnumBospori)"
   ]
  },
  {
   "cell_type": "code",
   "execution_count": 18,
   "id": "5b5ef7f8",
   "metadata": {},
   "outputs": [
    {
     "data": {
      "text/plain": [
       "76056"
      ]
     },
     "execution_count": 18,
     "metadata": {},
     "output_type": "execute_result"
    }
   ],
   "source": [
    "## open tsv file contaning inscriptions from Roma (date, tot inscr)\n",
    "Roma = pd.read_csv(\"/Users/u0154817/OneDrive - KU Leuven/Documents/ICLL Prague June 2023/EDCS_Latin_Funerary_Inscriptions/2023-05-10-EDCS_via_Lat_Epig-prov_Roma+genus_titulisepulcrales-76056.tsv\", sep='\\t')\n",
    "len(Roma)"
   ]
  },
  {
   "cell_type": "code",
   "execution_count": 19,
   "id": "dfe90a33",
   "metadata": {},
   "outputs": [
    {
     "data": {
      "text/plain": [
       "7697"
      ]
     },
     "execution_count": 19,
     "metadata": {},
     "output_type": "execute_result"
    }
   ],
   "source": [
    "## open tsv file contaning inscriptions from Aemilia / Regio VIII, Samnium / Regio IV, Sardinia, Sicilia, Syria (date, tot inscr)\n",
    "AeRe_SaRe_Sa_Si_Sy = pd.read_csv(\"/Users/u0154817/OneDrive - KU Leuven/Documents/ICLL Prague June 2023/EDCS_Latin_Funerary_Inscriptions/2023-05-11-EDCS_via_Lat_Epig-prov_5(AeRe,SaRe,Sa,Si,Sy)+genus_titulisepulcrales-7697.tsv\", sep='\\t')\n",
    "len(AeRe_SaRe_Sa_Si_Sy)"
   ]
  },
  {
   "cell_type": "code",
   "execution_count": 20,
   "id": "f271c3a3",
   "metadata": {},
   "outputs": [
    {
     "data": {
      "text/plain": [
       "9985"
      ]
     },
     "execution_count": 20,
     "metadata": {},
     "output_type": "execute_result"
    }
   ],
   "source": [
    "## open tsv file contaning inscriptions from Thracia, Transpadana / Regio XI, Umbria / Regio VI, Venetia et Histria / Regio X (date, tot inscr)\n",
    "Th_TrRe_UmRe_VeetHi = pd.read_csv(\"/Users/u0154817/OneDrive - KU Leuven/Documents/ICLL Prague June 2023/EDCS_Latin_Funerary_Inscriptions/2023-05-11-EDCS_via_Lat_Epig-prov_4(Th,TrRe,UmRe,VeetHi)+genus_titulisepulcrales-9985.tsv\", sep='\\t')\n",
    "len(Th_TrRe_UmRe_VeetHi)"
   ]
  },
  {
   "cell_type": "code",
   "execution_count": 21,
   "id": "02a688b9",
   "metadata": {},
   "outputs": [],
   "source": [
    "Merged_Inscriptions = pd.concat([Ac_Ae_Afpr, AlCo_AlGr_AlMa_AlPo_ApetCa, Aq_Ar_Ar, Asia, Ba_Ba_Be, Brit_BrutetLuc, Ca_Ci_Co_CretCy, Cy_Da_Da_EtRe_Ga_GaNaa, Gein_Gesu_Hici, Italia, LatetCamp, LiRe_Lu_Lu, LyetPa_Ma_MaCa_MaTi_Me, Moin_Mosu_No_Nu_Pa, Pain_Pasu_PiRe_PoetBi_Prin_Ra, RegnumBospori, Roma, AeRe_SaRe_Sa_Si_Sy, Th_TrRe_UmRe_VeetHi], ignore_index=True)"
   ]
  },
  {
   "cell_type": "code",
   "execution_count": 22,
   "id": "879ae128",
   "metadata": {},
   "outputs": [
    {
     "data": {
      "text/plain": [
       "184097"
      ]
     },
     "execution_count": 22,
     "metadata": {},
     "output_type": "execute_result"
    }
   ],
   "source": [
    "len(Merged_Inscriptions)"
   ]
  },
  {
   "cell_type": "code",
   "execution_count": 23,
   "id": "82491cc0",
   "metadata": {},
   "outputs": [],
   "source": [
    "Merged_Inscriptions.to_csv('Tituli_Sepulcrales.csv', index=False)"
   ]
  }
 ],
 "metadata": {
  "kernelspec": {
   "display_name": "Python 3 (ipykernel)",
   "language": "python",
   "name": "python3"
  },
  "language_info": {
   "codemirror_mode": {
    "name": "ipython",
    "version": 3
   },
   "file_extension": ".py",
   "mimetype": "text/x-python",
   "name": "python",
   "nbconvert_exporter": "python",
   "pygments_lexer": "ipython3",
   "version": "3.9.13"
  }
 },
 "nbformat": 4,
 "nbformat_minor": 5
}
