{
 "cells": [
  {
   "cell_type": "markdown",
   "id": "ae4e4b7b",
   "metadata": {},
   "source": [
    "# Collocations Extraction and Measurement"
   ]
  },
  {
   "cell_type": "markdown",
   "id": "ff564ee5",
   "metadata": {},
   "source": [
    "The analysis was performed on the texts containing indications of blank spaces ([3], [6]), but not of division of line (/). In this way, not consecutive words are excluded from the bigram extraction. In this phase, the extracted bigrams also contain integrations and resolution of abbreviations made by modern editors.\n",
    "\n",
    "The notebook contains three main passages in the extraction and measurement of bigrams in the inscriptions:\n",
    "\n",
    "1. Extraction of the most frequent bigrams based on the raw frequency.\n",
    "2. Extraction of the bigrams with the highest PMI score.\n",
    "3. Extraction of the most significant bigrams in comparison to the reference corpus.\n",
    "\n",
    "The three steps correspond to three key-aspects that emerged in the linguistic analysis of the formulaic language:\n",
    "1. Frequency.\n",
    "2. Strong association.\n",
    "3. Specificity.\n",
    "\n",
    "For a discussion see: ...\n",
    "\n",
    "Note that the bigrams extraction also permits to perform a preliminary analysis of the layout. For example, the second most frequent bigram is '.' 'dis' (61,617), because 'Dis' is usually the first word of the inscription."
   ]
  },
  {
   "cell_type": "code",
   "execution_count": 1,
   "id": "8740b695",
   "metadata": {},
   "outputs": [],
   "source": [
    "import pandas as pd\n",
    "from collections import Counter\n",
    "import nltk\n",
    "from nltk.tokenize import sent_tokenize, word_tokenize\n",
    "from nltk.collocations import *\n",
    "bigram_measures = nltk.collocations.BigramAssocMeasures()\n",
    "import re\n",
    "import collections\n",
    "from collections import Counter\n",
    "from nltk.util import ngrams\n",
    "from scipy.stats import chi2_contingency\n",
    "from statsmodels.stats.proportion import proportions_ztest\n",
    "from statsmodels.stats.proportion import proportions_chisquare\n",
    "import numpy as np\n",
    "import pickle"
   ]
  },
  {
   "cell_type": "code",
   "execution_count": 2,
   "id": "7b4f16b6",
   "metadata": {},
   "outputs": [],
   "source": [
    "##open the dataset of funerary inscriptions (172,958 rows)\n",
    "Inscriptions = pd.read_csv(\"/Users/u0154817/OneDrive - KU Leuven/Documents/ICLL Prague June 2023/Output/Tituli_Sepulcrales_new.csv\")"
   ]
  },
  {
   "cell_type": "code",
   "execution_count": 3,
   "id": "4ae07727",
   "metadata": {},
   "outputs": [
    {
     "data": {
      "text/plain": [
       "'Dis Manibus sacrum  moribus  bonis 3 matrona  pudica  probata'"
      ]
     },
     "execution_count": 3,
     "metadata": {},
     "output_type": "execute_result"
    }
   ],
   "source": [
    "##test for the text cleaning removing all the special characters except for '3' and '6'\n",
    "test = '[D(is) M(anibus) s(acrum)] / mo[r]ibus / bonis [3] m/[atro]na / [pud]ica / [prob]ata'\n",
    "cleaned_test = re.sub(r\"[\\(\\){}\\[\\]/]\", \"\", test)\n",
    "cleaned_test"
   ]
  },
  {
   "cell_type": "code",
   "execution_count": 4,
   "id": "859886a7",
   "metadata": {},
   "outputs": [],
   "source": [
    "##create a list of all the words in inscriptions\n",
    "list_of_words = []\n",
    "\n",
    "for i,inscription in enumerate(Inscriptions['inscription']):\n",
    "    inscription = str(inscription)\n",
    "    cleaned_inscription = re.sub(r\"[\\(\\){}\\[\\]/]\", \"\", inscription) ##remove all the special characters except '3' and '6'\n",
    "    tokenized_inscription = word_tokenize(cleaned_inscription) ##tokenize the inscription with NLTK\n",
    "    for word in tokenized_inscription:\n",
    "        word = word.lower() ##lower all the words\n",
    "        list_of_words.append(word)\n",
    "    list_of_words.append('.') ##add a stop point to mark the end of the sentence"
   ]
  },
  {
   "cell_type": "code",
   "execution_count": 5,
   "id": "aa80983d",
   "metadata": {},
   "outputs": [
    {
     "data": {
      "text/plain": [
       "2380947"
      ]
     },
     "execution_count": 5,
     "metadata": {},
     "output_type": "execute_result"
    }
   ],
   "source": [
    "len(list_of_words)"
   ]
  },
  {
   "cell_type": "markdown",
   "id": "5685d5bb",
   "metadata": {},
   "source": [
    "# a. Frequency: Most Frequent Bigrams"
   ]
  },
  {
   "cell_type": "code",
   "execution_count": 6,
   "id": "09d2672b",
   "metadata": {
    "scrolled": false
   },
   "outputs": [
    {
     "data": {
      "text/plain": [
       "[(('dis', 'manibus'), 64389),\n",
       " (('.', 'dis'), 61617),\n",
       " (('vixit', 'annos'), 41692),\n",
       " (('manibus', 'sacrum'), 20845),\n",
       " (('bene', 'merenti'), 18850),\n",
       " (('vixit', 'annis'), 15365),\n",
       " (('in', 'pace'), 13574),\n",
       " (('hic', 'situs'), 13430),\n",
       " (('est', '.'), 12064),\n",
       " (('situs', 'est'), 11563)]"
      ]
     },
     "execution_count": 6,
     "metadata": {},
     "output_type": "execute_result"
    }
   ],
   "source": [
    "finder = BigramCollocationFinder.from_words(list_of_words) ##create a bigram finder\n",
    "\n",
    "##get the 100 most frequent bigrams\n",
    "finder.ngram_fd.most_common(10)"
   ]
  },
  {
   "cell_type": "markdown",
   "id": "42e02e7d",
   "metadata": {},
   "source": [
    "#  b. Pointwise Mutual Information (PMI) Score"
   ]
  },
  {
   "cell_type": "markdown",
   "id": "3b522edd",
   "metadata": {},
   "source": [
    "The formula for calculating the PMI score is as follows:\n",
    "\n",
    "                                       PMI = log2(P(word1, word2) / (P(word1) * P(word2)))\n",
    "\n",
    "where P(word1, word2) represents the observed probability of the bigram, and P(word1) and P(word2) represent the observed probabilities of the individual words. The observed probability of a bigram refers to the frequency of occurrence of that specific bigram in the corpus relative to the total number of bigrams present. It is calculated by dividing the frequency of the bigram by the total number of bigrams in the corpus."
   ]
  },
  {
   "cell_type": "code",
   "execution_count": 7,
   "id": "b4b81ef9",
   "metadata": {
    "scrolled": true
   },
   "outputs": [
    {
     "data": {
      "text/plain": [
       "[('++a3', '3+p++a+3'),\n",
       " ('++i+ei', 'iotae'),\n",
       " ('++nicios', '+++'),\n",
       " ('+ceech+', 'aano+o'),\n",
       " ('+crknωm', 'mnodo'),\n",
       " ('+ecidi', 'o+pate'),\n",
       " ('+valterni', 'bimet3ventur'),\n",
       " ('.אגוסתה.אמן', 'שלוםעלמשכה'),\n",
       " ('1abi3e', 'p3adi'),\n",
       " ('1aconanicvs', 'frattri')]"
      ]
     },
     "execution_count": 7,
     "metadata": {},
     "output_type": "execute_result"
    }
   ],
   "source": [
    "##get the 10 bigrams with the highest PMI score\n",
    "finder.nbest(bigram_measures.pmi, 10)"
   ]
  },
  {
   "cell_type": "code",
   "execution_count": 8,
   "id": "8ac0a792",
   "metadata": {},
   "outputs": [
    {
     "name": "stdout",
     "output_type": "stream",
     "text": [
      "('3iei3rcs', '3alimappa')\tRaw_frequency: 2\n",
      "('3ln3', '3bt3')\tRaw_frequency: 2\n",
      "('3niu3', '3isse3')\tRaw_frequency: 2\n",
      "('3ussa', '3e3al')\tRaw_frequency: 2\n",
      "('accensorum', 'velatorum')\tRaw_frequency: 2\n",
      "('aeflaniae', 'debeiae')\tRaw_frequency: 2\n",
      "('ancialus', 'fulviniai')\tRaw_frequency: 2\n",
      "('asonilo', 'euporius')\tRaw_frequency: 2\n",
      "('astello', 'starvae')\tRaw_frequency: 2\n",
      "('auruncina', 'calaviana')\tRaw_frequency: 2\n"
     ]
    }
   ],
   "source": [
    "##get the 10 bigrams with the highest PMI score which occur at least twice in the corpus\n",
    "finder.apply_freq_filter(2) ##apply a filter to the finder\n",
    "\n",
    "for bigram in (finder.nbest(bigram_measures.pmi, 10)):\n",
    "    pmi_score = finder.score_ngram(bigram_measures.pmi, bigram[0], bigram[1])\n",
    "    absolute_frequency = finder.ngram_fd[bigram]\n",
    "    print(f\"{bigram}\\tRaw_frequency: {absolute_frequency}\") ##show the raw frequency"
   ]
  },
  {
   "cell_type": "code",
   "execution_count": 9,
   "id": "710cdc74",
   "metadata": {
    "scrolled": true
   },
   "outputs": [
    {
     "name": "stdout",
     "output_type": "stream",
     "text": [
      "('dolus', 'malus')\tRaw_frequency: 155\n",
      "('malus', 'abesto')\tRaw_frequency: 147\n",
      "('rei', 'publicae')\tRaw_frequency: 136\n",
      "('ddominis', 'nnostris')\tRaw_frequency: 184\n",
      "('vviris', 'cclarissimis')\tRaw_frequency: 188\n",
      "('monumento', 'dolus')\tRaw_frequency: 122\n",
      "('contra', 'votum')\tRaw_frequency: 190\n",
      "('decreto', 'decurionum')\tRaw_frequency: 250\n",
      "('iure', 'dicundo')\tRaw_frequency: 376\n",
      "('equiti', 'singulari')\tRaw_frequency: 190\n"
     ]
    }
   ],
   "source": [
    "##get the 10 bigrams with the highest PMI score which occur at least 122 times in the corpus\n",
    "finder.apply_freq_filter(122) ##apply a filter to the finder\n",
    "\n",
    "for bigram in (finder.nbest(bigram_measures.pmi, 10)):\n",
    "    pmi_score = finder.score_ngram(bigram_measures.pmi, bigram[0], bigram[1])\n",
    "    absolute_frequency = finder.ngram_fd[bigram]\n",
    "    print(f\"{bigram}\\tRaw_frequency: {absolute_frequency}\") ##show the raw frequency"
   ]
  },
  {
   "cell_type": "markdown",
   "id": "ab5138e0",
   "metadata": {},
   "source": [
    "# c. p-value with LASLA"
   ]
  },
  {
   "cell_type": "code",
   "execution_count": 10,
   "id": "1a9fa6ef",
   "metadata": {},
   "outputs": [],
   "source": [
    "def calculate_z_score(item1, item2, corpus_counter, reference_counter):\n",
    "    count=np.array([corpus_counter[item1], reference_counter[item2]])\n",
    "    n=np.array([2007668, 1809855])\n",
    "    return proportions_ztest(count, n)"
   ]
  },
  {
   "cell_type": "code",
   "execution_count": 11,
   "id": "707684c7",
   "metadata": {},
   "outputs": [],
   "source": [
    "def calculate_chi_square(item1, item2, corpus_counter, reference_counter): \n",
    "    count=np.array([corpus_counter[item1], reference_counter[item2]])\n",
    "    n=np.array([2007668, 1809855])\n",
    "    return proportions_chisquare(count, n)"
   ]
  },
  {
   "cell_type": "code",
   "execution_count": 12,
   "id": "8cf9e57d",
   "metadata": {},
   "outputs": [],
   "source": [
    "##open the file containing the bigrams in the inscriptions\n",
    "with open(r'C:\\Users\\u0154817\\OneDrive - KU Leuven\\Documents\\ICLL Prague June 2023\\Output\\Ngrams_notcleaned\\grams_2', 'rb') as f:\n",
    "    bigrams_inscriptions = pickle.load(f)"
   ]
  },
  {
   "cell_type": "code",
   "execution_count": 13,
   "id": "966f05e5",
   "metadata": {},
   "outputs": [
    {
     "data": {
      "text/plain": [
       "[(('dis', 'manibus'), 64389),\n",
       " (('vixit', 'annos'), 41692),\n",
       " (('manibus', 'sacrum'), 20845),\n",
       " (('bene', 'merenti'), 18850),\n",
       " (('vixit', 'annis'), 15365),\n",
       " (('in', 'pace'), 13574),\n",
       " (('hic', 'situs'), 13430),\n",
       " (('situs', 'est'), 11563),\n",
       " (('3', '3'), 8786),\n",
       " (('sibi', 'et'), 8271)]"
      ]
     },
     "execution_count": 13,
     "metadata": {},
     "output_type": "execute_result"
    }
   ],
   "source": [
    "bigrams_inscriptions.most_common(10) "
   ]
  },
  {
   "cell_type": "code",
   "execution_count": 14,
   "id": "4d2509d4",
   "metadata": {},
   "outputs": [
    {
     "data": {
      "text/plain": [
       "collections.Counter"
      ]
     },
     "execution_count": 14,
     "metadata": {},
     "output_type": "execute_result"
    }
   ],
   "source": [
    "type(bigrams_inscriptions) ##bigrams_inscriptions is a Counter object"
   ]
  },
  {
   "cell_type": "code",
   "execution_count": 15,
   "id": "d866e0f6",
   "metadata": {
    "scrolled": true
   },
   "outputs": [],
   "source": [
    "##open the file containing the bigrams in the LASLA corpus\n",
    "with open(r'C:\\Users\\u0154817\\OneDrive - KU Leuven\\Documents\\ICLL Prague June 2023\\Sources\\final_grams_lasla\\grams_2', 'rb') as f:\n",
    "    bigrams_LASLA = pickle.load(f)"
   ]
  },
  {
   "cell_type": "code",
   "execution_count": 16,
   "id": "d3eff2f4",
   "metadata": {},
   "outputs": [
    {
     "data": {
      "text/plain": [
       "[(('et', 'in'), 1168),\n",
       " (('rei', 'publicae'), 948),\n",
       " (('non', 'est'), 906),\n",
       " (('que', 'et'), 754),\n",
       " (('sed', 'etiam'), 677),\n",
       " (('non', 'modo'), 665),\n",
       " (('populi', 'romani'), 653),\n",
       " (('que', 'in'), 646),\n",
       " (('est', 'quod'), 618),\n",
       " (('est', 'et'), 588)]"
      ]
     },
     "execution_count": 16,
     "metadata": {},
     "output_type": "execute_result"
    }
   ],
   "source": [
    "bigrams_LASLA.most_common(10) "
   ]
  },
  {
   "cell_type": "code",
   "execution_count": 17,
   "id": "71388f17",
   "metadata": {},
   "outputs": [
    {
     "data": {
      "text/plain": [
       "collections.Counter"
      ]
     },
     "execution_count": 17,
     "metadata": {},
     "output_type": "execute_result"
    }
   ],
   "source": [
    "type(bigrams_LASLA) ##bigrams_LASLA is a Counter object"
   ]
  },
  {
   "cell_type": "code",
   "execution_count": 18,
   "id": "fcfc3d21",
   "metadata": {
    "scrolled": true
   },
   "outputs": [
    {
     "name": "stdout",
     "output_type": "stream",
     "text": [
      "(('dis', 'manibus'), 64389)\n",
      "242.9707449070468 0\n",
      "(('vixit', 'annos'), 41692)\n",
      "194.93367226751113 0\n",
      "(('manibus', 'sacrum'), 20845)\n",
      "137.45667695168333 0\n",
      "(('bene', 'merenti'), 18850)\n",
      "130.62352023914664 0\n",
      "(('vixit', 'annis'), 15365)\n",
      "117.9282831355557 0\n",
      "(('in', 'pace'), 13574)\n",
      "109.97859520824204 0\n",
      "(('hic', 'situs'), 13430)\n",
      "110.14563287029506 0\n",
      "(('situs', 'est'), 11563)\n",
      "102.1804860936101 0\n",
      "(('3', '3'), 8786)\n",
      "89.09880528833129 0\n",
      "(('sibi', 'et'), 8271)\n",
      "85.45462177652446 0\n"
     ]
    }
   ],
   "source": [
    "for i in  bigrams_inscriptions.most_common(10):\n",
    "    print(i)\n",
    "    i1 = re.sub(r'v', 'u', i[0][0]) ##we observed that in the LASLA corpus 'vixit' is written 'uixit'\n",
    "    i2 = re.sub(r'v', 'u', i[0][1]) ##we observed that in the LASLA corpus 'vixit' is written 'uixit'\n",
    "    cleaned_tuple = (i1,i2)\n",
    "    #print(cleaned_tuple)\n",
    "    a, b=calculate_z_score(i[0], cleaned_tuple, bigrams_inscriptions, bigrams_LASLA)\n",
    "    print(a, f'{b:.3g}')\n",
    "    #print(calculate_chi_square(i[0], cleaned_tuple, bigrams_inscriptions, bigrams_LASLA))\n",
    "    #if calculate_chi_square(i[0], cleaned_tuple, bigrams_inscriptions, bigrams_LASLA)[1]<0.05:\n",
    "        #print('significant')"
   ]
  },
  {
   "cell_type": "code",
   "execution_count": 19,
   "id": "f3a53c44",
   "metadata": {},
   "outputs": [],
   "source": [
    "list_specificity=[]\n",
    "\n",
    "for i in bigrams_inscriptions:\n",
    "    i1 = re.sub(r'v', 'u', i[0]) ##we observed that in the LASLA corpus 'vixit' is written 'uixit'\n",
    "    i2 = re.sub(r'v', 'u', i[1]) ##we observed that in the LASLA corpus 'vixit' is written 'uixit'\n",
    "    cleaned_tuple = (i1,i2)\n",
    "    list_specificity.append((i, calculate_chi_square(i, cleaned_tuple, bigrams_inscriptions, bigrams_LASLA)))\n",
    "list_specificity.sort(key=lambda a: a[1][1])"
   ]
  },
  {
   "cell_type": "code",
   "execution_count": 20,
   "id": "f189cc2b",
   "metadata": {
    "scrolled": false
   },
   "outputs": [
    {
     "data": {
      "text/plain": [
       "[(('3', '3'),\n",
       "  (7938.597103807971, 0.0, (array([[   8786., 1998882.],\n",
       "           [      0., 1809855.]]),\n",
       "    array([[   4620.63255362, 2003047.36744638],\n",
       "           [   4165.36744638, 1805689.63255362]])))),\n",
       " (('sibi', 'et'),\n",
       "  (7302.492382968851,\n",
       "   0.0,\n",
       "   (array([[8.271000e+03, 1.999397e+06],\n",
       "           [5.900000e+01, 1.809796e+06]]),\n",
       "    array([[   4380.81825309, 2003287.18174691],\n",
       "           [   3949.18174691, 1805905.81825309]])))),\n",
       " (('in', 'fronte'),\n",
       "  (5128.042546647204,\n",
       "   0.0,\n",
       "   (array([[5.744000e+03, 2.001924e+06],\n",
       "           [2.000000e+01, 1.809835e+06]]),\n",
       "    array([[   3031.33690406, 2004636.66309594],\n",
       "           [   2732.66309594, 1807122.33690406]])))),\n",
       " (('in', 'agro'),\n",
       "  (4413.650622411032,\n",
       "   0.0,\n",
       "   (array([[5.067000e+03, 2.002601e+06],\n",
       "           [5.600000e+01, 1.809799e+06]]),\n",
       "    array([[   2694.22952108, 2004973.77047892],\n",
       "           [   2428.77047892, 1807426.22952108]])))),\n",
       " (('agro', 'pedes'),\n",
       "  (4398.484032436684, 0.0, (array([[   4873., 2002795.],\n",
       "           [      0., 1809855.]]),\n",
       "    array([[   2562.75238263, 2005105.24761737],\n",
       "           [   2310.24761737, 1807544.75238263]])))),\n",
       " (('dis', 'manibus'),\n",
       "  (59034.78288068519,\n",
       "   0.0,\n",
       "   (array([[6.438900e+04, 1.943279e+06],\n",
       "           [2.000000e+00, 1.809853e+06]]),\n",
       "    array([[  33863.77768726, 1973804.22231274],\n",
       "           [  30527.22231274, 1779327.77768726]])))),\n",
       " (('vixit', 'annis'),\n",
       "  (13907.079963299791, 0.0, (array([[  15365., 1992303.],\n",
       "           [      0., 1809855.]]),\n",
       "    array([[   8080.58492902, 1999587.41507098],\n",
       "           [   7284.41507098, 1802570.58492902]])))),\n",
       " (('vixit', 'annos'),\n",
       "  (37999.136583697415, 0.0, (array([[  41692., 1965976.],\n",
       "           [      0., 1809855.]]),\n",
       "    array([[  21926.17942472, 1985741.82057528],\n",
       "           [  19765.82057528, 1790089.17942472]])))),\n",
       " (('annos', 'xxx'),\n",
       "  (1484.4617474608565,\n",
       "   0.0,\n",
       "   (array([[1.646000e+03, 2.006022e+06],\n",
       "           [0.000000e+00, 1.809855e+06]]),\n",
       "    array([[8.65645480e+02, 2.00680235e+06],\n",
       "           [7.80354520e+02, 1.80907465e+06]])))),\n",
       " (('?', '3'),\n",
       "  (3452.489193287109, 0.0, (array([[   3826., 2003842.],\n",
       "           [      0., 1809855.]]),\n",
       "    array([[2.01212613e+03, 2.00565587e+06],\n",
       "           [1.81387387e+03, 1.80804113e+06]])))),\n",
       " (('coniugi', 'bene'),\n",
       "  (3445.2629610431395, 0.0, (array([[   3818., 2003850.],\n",
       "           [      0., 1809855.]]),\n",
       "    array([[2.00791886e+03, 2.00566008e+06],\n",
       "           [1.81008114e+03, 1.80804492e+06]])))),\n",
       " (('bene', 'merenti'),\n",
       "  (17062.504039666754,\n",
       "   0.0,\n",
       "   (array([[1.885000e+04, 1.988818e+06],\n",
       "           [5.000000e+00, 1.809850e+06]]),\n",
       "    array([[   9916.00578176, 1997751.99421824],\n",
       "           [   8938.99421824, 1800916.00578176]])))),\n",
       " (('merenti', 'fecit'),\n",
       "  (5223.830164554914, 0.0, (array([[   5786., 2001882.],\n",
       "           [      0., 1809855.]]),\n",
       "    array([[   3042.90689224, 2004625.09310776],\n",
       "           [   2743.09310776, 1807111.90689224]])))),\n",
       " (('hic', 'situs'),\n",
       "  (12132.060440397821,\n",
       "   0.0,\n",
       "   (array([[1.343000e+04, 1.994238e+06],\n",
       "           [6.000000e+00, 1.809849e+06]]),\n",
       "    array([[   7066.10732876, 2000601.89267124],\n",
       "           [   6369.89267124, 1803485.10732876]])))),\n",
       " (('qui', 'vixit'),\n",
       "  (7452.339620523166, 0.0, (array([[   8249., 1999419.],\n",
       "           [      0., 1809855.]]),\n",
       "    array([[   4338.21966024, 2003329.78033976],\n",
       "           [   3910.78033976, 1805944.21966024]]))))]"
      ]
     },
     "execution_count": 20,
     "metadata": {},
     "output_type": "execute_result"
    }
   ],
   "source": [
    "list_specificity[:15]"
   ]
  }
 ],
 "metadata": {
  "kernelspec": {
   "display_name": "Python 3 (ipykernel)",
   "language": "python",
   "name": "python3"
  },
  "language_info": {
   "codemirror_mode": {
    "name": "ipython",
    "version": 3
   },
   "file_extension": ".py",
   "mimetype": "text/x-python",
   "name": "python",
   "nbconvert_exporter": "python",
   "pygments_lexer": "ipython3",
   "version": "3.9.13"
  }
 },
 "nbformat": 4,
 "nbformat_minor": 5
}
